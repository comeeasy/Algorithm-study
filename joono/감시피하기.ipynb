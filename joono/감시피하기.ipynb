{
 "cells": [
  {
   "cell_type": "markdown",
   "metadata": {
    "collapsed": true,
    "pycharm": {
     "name": "#%% md\n"
    }
   },
   "source": [
    "# 20. 감시 피하기"
   ]
  },
  {
   "cell_type": "code",
   "execution_count": 32,
   "outputs": [
    {
     "name": "stdout",
     "output_type": "stream",
     "text": [
      "sum: 4, num_of_sights: 4\n",
      "YES\n"
     ]
    }
   ],
   "source": [
    "from itertools import chain\n",
    "\n",
    "N = int(input())\n",
    "grid = []\n",
    "for _ in range(N):\n",
    "    grid.append(list(map(lambda x: 0 if x == 'X' else x, input().split())))\n",
    "\n",
    "S_positions = []\n",
    "T_positions = []\n",
    "for r in range(N):\n",
    "    for c in range(N):\n",
    "        if grid[r][c] == 'S': S_positions.append((r, c))\n",
    "        if grid[r][c] == 'T': T_positions.append((r, c))\n",
    "\n",
    "num_of_sight = 0\n",
    "for S_pos in S_positions:\n",
    "    for T_pos in T_positions:\n",
    "        if S_pos[0] == T_pos[0]:\n",
    "            num_of_sight += 1\n",
    "            if S_pos[1] > T_pos[1]:\n",
    "                for c in range(T_pos[1]+1, S_pos[1]):\n",
    "                    if grid[S_pos[0]][c] != 'S' and grid[S_pos[0]][c] != 'T':\n",
    "                        grid[S_pos[0]][c] += 1\n",
    "            else:\n",
    "                for c in range(S_pos[1]+1, T_pos[1]):\n",
    "                    if grid[S_pos[0]][c] != 'S' and grid[S_pos[0]][c] != 'T':\n",
    "                        grid[S_pos[0]][c] += 1\n",
    "        if S_pos[1] == T_pos[1]:\n",
    "            num_of_sight += 1\n",
    "            if S_pos[0] > T_pos[0]:\n",
    "                for r in range(T_pos[0]+1, S_pos[0]):\n",
    "                    if grid[r][S_pos[1]] != 'S' and grid[r][S_pos[1]] != 'T':\n",
    "                        grid[r][S_pos[1]] += 1\n",
    "            else:\n",
    "                for r in range(S_pos[0]+1, T_pos[0]):\n",
    "                    if grid[r][S_pos[1]] != 'S' and grid[r][S_pos[1]] != 'T':\n",
    "                        grid[r][S_pos[1]] += 1\n",
    "\n",
    "sights = list(map(lambda x: x if x.__class__ == int else 0, chain(item for row in grid for item in row)))\n",
    "sights.sort(reverse=True)\n",
    "\n",
    "print(f'sum: {sum(sights[:3])}, num_of_sights: {num_of_sight}')\n",
    "\n",
    "if sum(sights[:3]) >= num_of_sight:\n",
    "    print('YES')\n",
    "else:\n",
    "    print('NO')"
   ],
   "metadata": {
    "collapsed": false,
    "pycharm": {
     "name": "#%%\n"
    }
   }
  },
  {
   "cell_type": "code",
   "execution_count": 24,
   "outputs": [
    {
     "data": {
      "text/plain": "True"
     },
     "execution_count": 24,
     "metadata": {},
     "output_type": "execute_result"
    }
   ],
   "source": [
    "a = 1\n",
    "a.__class__ == int"
   ],
   "metadata": {
    "collapsed": false,
    "pycharm": {
     "name": "#%%\n"
    }
   }
  },
  {
   "cell_type": "code",
   "execution_count": null,
   "outputs": [],
   "source": [],
   "metadata": {
    "collapsed": false,
    "pycharm": {
     "name": "#%%\n"
    }
   }
  }
 ],
 "metadata": {
  "kernelspec": {
   "name": "pycharm-48fa06dc",
   "language": "python",
   "display_name": "PyCharm (Python_Clean_Code)"
  },
  "language_info": {
   "codemirror_mode": {
    "name": "ipython",
    "version": 2
   },
   "file_extension": ".py",
   "mimetype": "text/x-python",
   "name": "python",
   "nbconvert_exporter": "python",
   "pygments_lexer": "ipython2",
   "version": "2.7.6"
  }
 },
 "nbformat": 4,
 "nbformat_minor": 0
}