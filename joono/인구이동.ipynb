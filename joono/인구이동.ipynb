{
 "cells": [
  {
   "cell_type": "markdown",
   "metadata": {
    "collapsed": true,
    "pycharm": {
     "name": "#%% md\n"
    }
   },
   "source": [
    "NxN 크기의 당이 있고, 땅은 1x1개의 칸으로 나누어져 있다.<br>\n",
    "각각의 땅에는 나라가 하나씩 존재하며, r행 c열에 있는 나라는 A[r][c]명 살고 있다.<br>\n",
    "인접한 나라 사이에는 국경선이 존재한다. 모든 나라는 1x1크기이기 때문에 모든 국경은 정사각형 모양이다<br>\n",
    "오늘부터 인구 이동이 시작되는 날이다. 인구 이동은 다음과 같이 진행되고, 더 이상 아래 방법에 의해 인구 이동이 없을 때까지 지속<br>\n",
    "\n",
    "1. 국경선을 공유하는 두 나라의 인구차이가 L명 이상, R명 이하라면 두 나라가 공유하는 국경한을 오늘 하루 동안 엽니다.<br>\n",
    "2. 위의 조건에 의해 열어야 하는 국경선이 모두 열렸다면, 인구 이동을 시작한다.<br>\n",
    "3. 국경선이 열려 있어 인접한 칸만을 이용해 이동할 수 있으며, 그 나라를 오늘 하루 동안은 연합이라고 합니다.<br>\n",
    "4. 연합을 이루고있는 각 칸의 인구수는 (연합의 인구수)/(연합을 이루고 있는 칸의 갯수) 가 된다.<br>\n",
    "5. 연합을 해체하고, 모든 국경선을 닫는다.<br>"
   ]
  },
  {
   "cell_type": "code",
   "execution_count": 26,
   "outputs": [
    {
     "ename": "ValueError",
     "evalue": "not enough values to unpack (expected 3, got 0)",
     "output_type": "error",
     "traceback": [
      "\u001B[0;31m---------------------------------------------------------------------------\u001B[0m",
      "\u001B[0;31mValueError\u001B[0m                                Traceback (most recent call last)",
      "\u001B[0;32m<ipython-input-26-6b6b75d0948a>\u001B[0m in \u001B[0;36m<module>\u001B[0;34m\u001B[0m\n\u001B[1;32m      1\u001B[0m \u001B[0;31m# N, L, R\u001B[0m\u001B[0;34m\u001B[0m\u001B[0;34m\u001B[0m\u001B[0;34m\u001B[0m\u001B[0m\n\u001B[1;32m      2\u001B[0m \u001B[0;34m\u001B[0m\u001B[0m\n\u001B[0;32m----> 3\u001B[0;31m \u001B[0mN\u001B[0m\u001B[0;34m,\u001B[0m \u001B[0mL\u001B[0m\u001B[0;34m,\u001B[0m \u001B[0mR\u001B[0m \u001B[0;34m=\u001B[0m \u001B[0mmap\u001B[0m\u001B[0;34m(\u001B[0m\u001B[0mint\u001B[0m\u001B[0;34m,\u001B[0m \u001B[0minput\u001B[0m\u001B[0;34m(\u001B[0m\u001B[0;34m)\u001B[0m\u001B[0;34m.\u001B[0m\u001B[0msplit\u001B[0m\u001B[0;34m(\u001B[0m\u001B[0;34m)\u001B[0m\u001B[0;34m)\u001B[0m\u001B[0;34m\u001B[0m\u001B[0;34m\u001B[0m\u001B[0m\n\u001B[0m\u001B[1;32m      4\u001B[0m \u001B[0mA\u001B[0m \u001B[0;34m=\u001B[0m \u001B[0;34m[\u001B[0m\u001B[0;34m]\u001B[0m\u001B[0;34m\u001B[0m\u001B[0;34m\u001B[0m\u001B[0m\n\u001B[1;32m      5\u001B[0m \u001B[0;32mfor\u001B[0m \u001B[0mi\u001B[0m \u001B[0;32min\u001B[0m \u001B[0mrange\u001B[0m\u001B[0;34m(\u001B[0m\u001B[0mN\u001B[0m\u001B[0;34m)\u001B[0m\u001B[0;34m:\u001B[0m\u001B[0;34m\u001B[0m\u001B[0;34m\u001B[0m\u001B[0m\n",
      "\u001B[0;31mValueError\u001B[0m: not enough values to unpack (expected 3, got 0)"
     ]
    }
   ],
   "source": [
    "# N, L, R\n",
    "\n",
    "N, L, R = map(int, input().split())\n",
    "A = []\n",
    "for i in range(N):\n",
    "    A.append(list(map(int, input().split())))\n",
    "\n",
    "# 1. get unions\n",
    "# 2. move people\n",
    "# 3. until there is no union\n",
    "\n",
    "dr = [-1, -1, 0, 1, 1, 1, 0, -1]\n",
    "dc = [0, 1, 1, 1, 0, -1, -1, -1]\n",
    "\n",
    "from collections import deque\n",
    "def get_unions(A, N) -> list:\n",
    "    \"\"\"\n",
    "    :return: list of unions\n",
    "    \"\"\"\n",
    "\n",
    "    visited = []\n",
    "    for _ in range(N):\n",
    "        visited.append([False] * N)\n",
    "\n",
    "    unions = []\n",
    "    for r in range(N):\n",
    "        for c in range(N):\n",
    "            q = deque()\n",
    "            if not visited[r][c]:\n",
    "                local_union = []\n",
    "                q.append((r, c))\n",
    "                local_union.append((r, c))\n",
    "                while q:\n",
    "                    cur_pos = q.popleft()\n",
    "                    for i in range(8):\n",
    "                        next_r = cur_pos[0] + dr[i]\n",
    "                        next_c = cur_pos[1] + dc[i]\n",
    "\n",
    "                        if 0 <= next_c < N and 0 <= next_r < N:\n",
    "                            if not visited[next_r][next_c]:\n",
    "                                visited[next_r][next_c] = True\n",
    "\n",
    "                                if L <= abs(A[r][c] - A[next_r][next_c]) <= R:\n",
    "                                    q.append((next_r, next_c))\n",
    "                                    local_union.append((next_r, next_c))\n",
    "                if len(local_union) == 1:\n",
    "                    continue\n",
    "                unions.append(local_union)\n",
    "    return unions\n",
    "\n",
    "day = 0\n",
    "while True:\n",
    "    unions = get_unions(A, N)\n",
    "    if not unions:\n",
    "        break\n",
    "\n",
    "    day += 1\n",
    "\n",
    "    # move people\n",
    "    for local_union in unions:\n",
    "        share_people = sum(A[city[0]][city[1]] for city in local_union) // len(local_union)\n",
    "        for city in local_union:\n",
    "            A[city[0]][city[1]] = share_people\n",
    "\n",
    "print(day)"
   ],
   "metadata": {
    "collapsed": false,
    "pycharm": {
     "name": "#%%\n"
    }
   }
  },
  {
   "cell_type": "code",
   "execution_count": null,
   "outputs": [],
   "source": [],
   "metadata": {
    "collapsed": false,
    "pycharm": {
     "name": "#%%\n"
    }
   }
  }
 ],
 "metadata": {
  "kernelspec": {
   "name": "pycharm-48fa06dc",
   "language": "python",
   "display_name": "PyCharm (Python_Clean_Code)"
  },
  "language_info": {
   "codemirror_mode": {
    "name": "ipython",
    "version": 2
   },
   "file_extension": ".py",
   "mimetype": "text/x-python",
   "name": "python",
   "nbconvert_exporter": "python",
   "pygments_lexer": "ipython2",
   "version": "2.7.6"
  }
 },
 "nbformat": 4,
 "nbformat_minor": 0
}