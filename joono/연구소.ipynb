{
 "cells": [
  {
   "cell_type": "markdown",
   "metadata": {
    "collapsed": true,
    "pycharm": {
     "name": "#%% md\n"
    }
   },
   "source": [
    "# 연구소\n",
    "\n",
    "NxM의 크기의 격자가 주어진다. 이때 벽을 딱 3개 세울 수 있는데 <br>\n",
    "벽을 세우고 이떄 바이러스가 퍼진 최종 국면에서 안전한 타일 최댓값을 구하는 문제"
   ]
  },
  {
   "cell_type": "code",
   "execution_count": 1,
   "outputs": [
    {
     "output_type": "stream",
     "name": "stdout",
     "text": [
      "27\n"
     ]
    }
   ],
   "source": [
    "from copy import deepcopy\n",
    "import itertools\n",
    "from collections import deque\n",
    "\n",
    "dx = [-1, 0, 1, 0]\n",
    "dy = [0, -1, 0, 1]\n",
    "\n",
    "def spread_virus(start, tmp):\n",
    "    q = deque()\n",
    "    q.append(start)\n",
    "\n",
    "    while q:\n",
    "        cur_pos = q.popleft()\n",
    "        x, y = cur_pos[0], cur_pos[1]\n",
    "\n",
    "        for i in range(4):\n",
    "            nx, ny = x + dx[i], y + dy[i]\n",
    "            if 0 <= nx < N and 0 <= ny < M:\n",
    "                if tmp[nx][ny] == 0:\n",
    "                    tmp[nx][ny] = 2\n",
    "                    q.append((nx, ny))\n",
    "\n",
    "def find_virus_position() -> list:\n",
    "    \"\"\"global 변수인 graph에 접근하여 virus들의 위치 정보를 담은 List return\"\"\"\n",
    "    global graph, N, M\n",
    "\n",
    "    virus_pos = []\n",
    "    for r in range(N):\n",
    "        for c in range(M):\n",
    "            if graph[r][c] == 2:\n",
    "                virus_pos.append((r, c))\n",
    "    return virus_pos\n",
    "\n",
    "N, M = map(int, input().split())\n",
    "# graph = [[2, 0, 0, 0, 0, 0, 0, 2],\n",
    "#          [2, 0, 0, 0, 0, 0, 0, 2],\n",
    "#          [2, 0, 0, 0, 0, 0, 0, 2],\n",
    "#          [2, 0, 0, 0, 0, 0, 0, 2],\n",
    "#          [2, 0, 0, 0, 0, 0, 0, 2],\n",
    "#          [0, 0, 0, 0, 0, 0, 0, 0],\n",
    "#          [0, 0, 0, 0, 0, 0, 0, 0],\n",
    "#          [0, 0, 0, 0, 0, 0, 0, 0]]\n",
    "# graph = [[0, 0, 0, 0, 0, 0],\n",
    "#          [1, 0, 0, 0, 0, 2],\n",
    "#          [1, 1, 1, 0, 0, 2],\n",
    "#          [0, 0, 0, 0, 0, 2]]\n",
    "graph = [[2, 0, 0, 0, 1, 1, 0],\n",
    "         [0, 0, 1, 0, 1, 2, 0],\n",
    "         [0, 1, 1, 0, 1, 0, 0],\n",
    "         [0, 1, 0, 0, 0, 0, 0],\n",
    "         [0, 0, 0, 0, 0, 1, 1],\n",
    "         [0, 1, 0, 0, 0, 0, 0],\n",
    "         [0, 1, 0, 0, 0, 0, 0]]\n",
    "# graph = []\n",
    "# for r in range(N):\n",
    "#     graph.append(list(map(int, input().split())))\n",
    "\n",
    "positions = [(r, c) for c in range(M) for r in range(N)]\n",
    "iter_pos = list(itertools.combinations(positions, 3))\n",
    "virus_pos = find_virus_position()\n",
    "\n",
    "safe_areas = []\n",
    "for list_of_3wall in iter_pos:\n",
    "    tmp_graph = deepcopy(graph)\n",
    "\n",
    "    for wall_pos in list_of_3wall:\n",
    "        x, y = wall_pos[0], wall_pos[1]\n",
    "        if tmp_graph[x][y] == 0:\n",
    "            tmp_graph[x][y] = 1\n",
    "\n",
    "    for virus_start in virus_pos:\n",
    "        spread_virus(virus_start, tmp_graph)\n",
    "\n",
    "    result = 0\n",
    "    for i in tmp_graph: result += i.count(0)\n",
    "    safe_areas.append(result)\n",
    "\n",
    "print(max(safe_areas))"
   ],
   "metadata": {
    "collapsed": false,
    "pycharm": {
     "name": "#%%\n"
    }
   }
  },
  {
   "cell_type": "code",
   "execution_count": 58,
   "outputs": [
    {
     "name": "stdout",
     "output_type": "stream",
     "text": [
      "0\n"
     ]
    }
   ],
   "source": [
    "a = [[2, 1, 0, 0, 1, 1, 2],\n",
    "    [1, 0, 1, 0, 1, 2, 2],\n",
    " [0, 1, 1, 0, 1, 2, 2],\n",
    " [0, 1, 0, 0, 0, 1, 2],\n",
    " [0, 1, 0, 0, 0, 1, 1],\n",
    " [0, 1, 0, 0, 0, 0, 0],\n",
    " [0, 1, 0, 0, 0, 0, 0]]\n",
    "\n",
    "\n",
    "s = a.count(0)\n",
    "print()"
   ],
   "metadata": {
    "collapsed": false,
    "pycharm": {
     "name": "#%%\n"
    }
   }
  },
  {
   "cell_type": "code",
   "execution_count": 4,
   "outputs": [
    {
     "output_type": "stream",
     "name": "stdout",
     "text": [
      "[[[0. 0. 0.]\n  [0. 0. 0.]\n  [0. 0. 0.]]\n\n [[0. 0. 0.]\n  [0. 0. 0.]\n  [0. 0. 0.]]\n\n [[0. 0. 0.]\n  [0. 0. 0.]\n  [0. 0. 0.]]]\nNone\n"
     ]
    }
   ],
   "source": [
    "import numpy as np\n",
    "\n",
    "l = np.zeros((3, 3, 3))\n",
    "print(l)"
   ],
   "metadata": {
    "collapsed": false,
    "pycharm": {
     "name": "#%%\n"
    }
   }
  },
  {
   "cell_type": "code",
   "execution_count": null,
   "metadata": {},
   "outputs": [],
   "source": []
  }
 ],
 "metadata": {
  "kernelspec": {
   "name": "python388jvsc74a57bd0dca0ade3e726a953b501b15e8e990130d2b7799f14cfd9f4271676035ebe5511",
   "display_name": "Python 3.8.8 64-bit ('anaconda3': virtualenv)"
  },
  "language_info": {
   "codemirror_mode": {
    "name": "ipython",
    "version": 2
   },
   "file_extension": ".py",
   "mimetype": "text/x-python",
   "name": "python",
   "nbconvert_exporter": "python",
   "pygments_lexer": "ipython2",
   "version": "3.8.8"
  },
  "metadata": {
   "interpreter": {
    "hash": "dca0ade3e726a953b501b15e8e990130d2b7799f14cfd9f4271676035ebe5511"
   }
  }
 },
 "nbformat": 4,
 "nbformat_minor": 0
}