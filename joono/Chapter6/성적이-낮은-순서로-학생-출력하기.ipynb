{
 "cells": [
  {
   "cell_type": "markdown",
   "metadata": {
    "collapsed": true,
    "pycharm": {
     "name": "#%% md\n"
    }
   },
   "source": [
    "# Part06 성적이 낮은 순서대로 학생 출력하기\n",
    "\n",
    "### 문제 이해하기\n",
    "\n",
    "N명의 학생 정보가 있다. 학생 정보는 학생의 이름과 학생의<br>\n",
    "성적으로 구분된다. 각 학생의 이름과 성적 정보가 주어졌을 때<br>\n",
    "성적이 낮은 순서대로 학생의 이름을 출력하는 프로그램을 작성하시오.<br>\n",
    "\n",
    "### 문제 접근 방법\n",
    "\n",
    "sorted\n",
    "\n",
    "### 접근 방법을 적용한 코드"
   ]
  },
  {
   "cell_type": "code",
   "execution_count": 1,
   "outputs": [
    {
     "name": "stdout",
     "output_type": "stream",
     "text": [
      "이순신 홍길동 \n"
     ]
    }
   ],
   "source": [
    "N = int(input())\n",
    "students = []\n",
    "for _ in range(N):\n",
    "    students.append(input().split())\n",
    "\n",
    "students = sorted(students, key=lambda x: int(x[1]))\n",
    "for s in students:\n",
    "    print(f'{s[0]}', end=' ')\n",
    "# print()"
   ],
   "metadata": {
    "collapsed": false,
    "pycharm": {
     "name": "#%%\n"
    }
   }
  }
 ],
 "metadata": {
  "kernelspec": {
   "display_name": "Python 3",
   "language": "python",
   "name": "python3"
  },
  "language_info": {
   "codemirror_mode": {
    "name": "ipython",
    "version": 2
   },
   "file_extension": ".py",
   "mimetype": "text/x-python",
   "name": "python",
   "nbconvert_exporter": "python",
   "pygments_lexer": "ipython2",
   "version": "2.7.6"
  }
 },
 "nbformat": 4,
 "nbformat_minor": 0
}