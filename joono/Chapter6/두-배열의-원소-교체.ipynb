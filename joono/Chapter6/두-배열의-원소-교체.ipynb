{
 "cells": [
  {
   "cell_type": "code",
   "execution_count": null,
   "metadata": {
    "collapsed": true
   },
   "outputs": [],
   "source": []
  },
  {
   "cell_type": "markdown",
   "source": [
    "# Part06 두 배열의 원소 교체\n",
    "\n",
    "### 문제 이해하기\n",
    "\n",
    "동빈이는 두 개의 배열 A, B를 가지고 있다.<br>\n",
    "두 배열은 N개의 우너소로 구성돼 있으며, 배열의 원소는 모두 자연수이다.<br>\n",
    "동빈이는 최대 K번의 바꿔치기 연산을 수행할 수 있는데, 바꿔치기 연산이랑 배열 A에<br>\n",
    "있는 원소 하나와 배열 B에 있는 원소 하나를 골라서 두 원소를 서로 바꾸는 것을<br>\n",
    "말한다. 동빈이의 최종 목표는 배열 A의 모든 원소의 합이 최대가 되도록 하는 것이며,<br>\n",
    "여러분은 동빈이를 도와야한다.<br>\n",
    "\n",
    "### 문제 접근 방법\n",
    "\n",
    "A는 오름차순 정렬\n",
    "B는 내림차순 정렬\n",
    "\n",
    "greedy 하게 풀어\n",
    "\n",
    "### 접근 방법을 적용한 코드"
   ],
   "metadata": {
    "collapsed": false
   }
  },
  {
   "cell_type": "code",
   "execution_count": 3,
   "outputs": [
    {
     "name": "stdout",
     "output_type": "stream",
     "text": [
      "26\n"
     ]
    }
   ],
   "source": [
    "N, K = map(int, input().split())\n",
    "A = list(map(int, input().split()))\n",
    "B = list(map(int, input().split()))\n",
    "\n",
    "A = sorted(A)\n",
    "B = sorted(B, reverse=True)\n",
    "\n",
    "for i in range(K):\n",
    "    A[i], B[i] = B[i], A[i]\n",
    "\n",
    "print(sum(A))\n"
   ],
   "metadata": {
    "collapsed": false,
    "pycharm": {
     "name": "#%%\n"
    }
   }
  }
 ],
 "metadata": {
  "kernelspec": {
   "display_name": "Python 3",
   "language": "python",
   "name": "python3"
  },
  "language_info": {
   "codemirror_mode": {
    "name": "ipython",
    "version": 2
   },
   "file_extension": ".py",
   "mimetype": "text/x-python",
   "name": "python",
   "nbconvert_exporter": "python",
   "pygments_lexer": "ipython2",
   "version": "2.7.6"
  }
 },
 "nbformat": 4,
 "nbformat_minor": 0
}