{
 "cells": [
  {
   "cell_type": "code",
   "execution_count": 3,
   "metadata": {
    "collapsed": true,
    "pycharm": {
     "name": "#%%\n"
    }
   },
   "outputs": [
    {
     "name": "stdout",
     "output_type": "stream",
     "text": [
      "[0, 2, 1]\n",
      "banana \n",
      "carrot \n",
      "apple \n"
     ]
    }
   ],
   "source": [
    "array = [('banana', 2), ('apple', 5), ('carrot', 3)]\n",
    "idx = [i for i in range(3)]\n",
    "\n",
    "result = sorted(idx, key=lambda item: array[item][1])\n",
    "print(result)\n",
    "\n",
    "for id in result:\n",
    "    print(f'{array[id][0]}', end=' ')\n",
    "    print()\n",
    "\n"
   ]
  }
 ],
 "metadata": {
  "kernelspec": {
   "display_name": "Python 3",
   "language": "python",
   "name": "python3"
  },
  "language_info": {
   "codemirror_mode": {
    "name": "ipython",
    "version": 2
   },
   "file_extension": ".py",
   "mimetype": "text/x-python",
   "name": "python",
   "nbconvert_exporter": "python",
   "pygments_lexer": "ipython2",
   "version": "2.7.6"
  }
 },
 "nbformat": 4,
 "nbformat_minor": 0
}