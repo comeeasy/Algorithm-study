{
 "cells": [
  {
   "cell_type": "markdown",
   "metadata": {
    "collapsed": true,
    "pycharm": {
     "name": "#%% md\n"
    }
   },
   "source": [
    "# Part06 위에서 아래로\n",
    "\n",
    "### 문제 이해하기\n",
    "\n",
    "하나의 수열에는 다양한 수가 존재한다.<br>\n",
    "이러한 수는 크기에 상관없이 나열돼있다.<br>\n",
    "이 수를 큰 수부터 작은 수의 순서로 정렬해야 한다.<br>\n",
    "수열을 내림차순으로 정렬하는 프로그램을 만드시오.<br>\n",
    "\n",
    "### 문제 접근 방법\n",
    "\n",
    "sorted\n",
    "\n",
    "### 접근 방법을 적용한 코드"
   ]
  },
  {
   "cell_type": "code",
   "execution_count": 3,
   "outputs": [
    {
     "name": "stdout",
     "output_type": "stream",
     "text": [
      "[27, 15, 12]\n"
     ]
    }
   ],
   "source": [
    "N = int(input())\n",
    "arr = []\n",
    "for _ in range(N):\n",
    "    arr.append(int(input()))\n",
    "\n",
    "arr = sorted(arr, reverse=True)\n",
    "print(arr)"
   ],
   "metadata": {
    "collapsed": false,
    "pycharm": {
     "name": "#%%\n"
    }
   }
  }
 ],
 "metadata": {
  "kernelspec": {
   "display_name": "Python 3",
   "language": "python",
   "name": "python3"
  },
  "language_info": {
   "codemirror_mode": {
    "name": "ipython",
    "version": 2
   },
   "file_extension": ".py",
   "mimetype": "text/x-python",
   "name": "python",
   "nbconvert_exporter": "python",
   "pygments_lexer": "ipython2",
   "version": "2.7.6"
  }
 },
 "nbformat": 4,
 "nbformat_minor": 0
}