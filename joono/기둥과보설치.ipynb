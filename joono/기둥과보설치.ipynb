{
 "cells": [
  {
   "cell_type": "markdown",
   "metadata": {
    "collapsed": true,
    "pycharm": {
     "name": "#%% md\n"
    }
   },
   "source": [
    "# 기둥과 보 설치\n",
    "### 문제 설명\n",
    "빙하가 깨지면서 스노우 타운에 떠내려온 죠르디는 인생 2막을 위해 주택 건축사업에 뛰어들기로 결심한다.<br>\n",
    "죠르디는 기둥과 보를 이용하여 벽면 구조물을 자동으로 세우는 로봇을 개발할 계획인데,<br>\n",
    "그에 앞에 로봇의 동작을 시뮬레이션 할 수 있는 프로그램을 만든다.<br>\n",
    "\n",
    "프로그램은 2차원 가상 벽면에 기둥과 보를 이용한 구조물을 설치할 수 있는데, 기둥과 보는 길이가 1인 선분으로<br>\n",
    "표현되며 다음과 같은 규칙을 갖는다.<br>\n",
    "\n",
    "- 기둥은 바닥 위에 있거나 보의 한쪽 끝부분 위에 있거나, 또 다른 기둥 위에 있어야한다.\n",
    "- 보는 한쪽 끝부분이 기둥 위에 있거나, 또는 양쪽 끝부분이 다른 보와 동시에 연결되어 있어야한다.\n",
    "\n",
    "### 입력 제한 사항\n",
    "1. build_frame의 형식은 [x, y, a, b] 이고 <br>\n",
    "    x: x축, y: y축, a: 1->보, 0->기둥, b: 1->생성, 0->삭제<br>\n",
    "2. 구조물은 교차점을 기준으로 보는 오른쪽, 기둥은 위로 생성된다.\n",
    "3. 만약 작업 수행 결과가 조건을 만족하지 않는다면 무시된다."
   ]
  },
  {
   "cell_type": "code",
   "execution_count": 21,
   "outputs": [
    {
     "name": "stdout",
     "output_type": "stream",
     "text": [
      "[[0, 0, 0], [2, 0, 0], [4, 0, 0], [0, 1, 1], [1, 1, 1], [2, 1, 1], [3, 1, 1]]\n",
      "flag: True\n",
      "[[0, 0, 0], [4, 0, 0], [0, 1, 1], [1, 1, 1], [2, 1, 1], [3, 1, 1]]\n",
      "[2, 1, 1, 1], False\n",
      "flag: False\n",
      "[2, 2, 0, 1], False\n",
      "[[0, 0, 0], [0, 1, 1], [1, 1, 1], [2, 1, 1], [3, 1, 1], [4, 0, 0]]\n"
     ]
    }
   ],
   "source": [
    "def pillar_val(frame, workspace):\n",
    "    x, y, a, _ = frame\n",
    "    # 바닥에 있거나, -> if y == 0\n",
    "    # 보의 한쪽 끝에 있거나, -> [x-1, y, 1] or [x, y, 1]이 존재하면\n",
    "    # 다른 기둥위에 있다면 세운다. -> [x, y-1, 0]이 존재하면\n",
    "    if y == 0 or [x-1, y, 1] in workspace or [x, y, 1] in workspace \\\n",
    "        or [x, y-1, 0] in workspace:\n",
    "            return True\n",
    "    # print(f'{frame}, False')\n",
    "    return False\n",
    "\n",
    "def beam_val(frame, workspace):\n",
    "    x, y, a, _ = frame\n",
    "    if [x, y-1, 0] in workspace or [x+1, y-1, 0] in workspace:\n",
    "        return True\n",
    "    if [x-1, y, 1] in workspace and [x+1, y, 1] in workspace:\n",
    "        return True\n",
    "    # print(f'{frame}, False')\n",
    "    return False\n",
    "\n",
    "N = int(input())\n",
    "# 함수의 인자로 주어짐\n",
    "# build_frame = [[1, 0, 0, 1],\n",
    "#                [1, 1, 1, 1],\n",
    "#                [2, 1, 0, 1],\n",
    "#                [2, 2, 1, 1],\n",
    "#                [5, 0, 0, 1],\n",
    "#                [5, 1, 0, 1],\n",
    "#                [4, 2, 1, 1],\n",
    "#                [3, 2, 1, 1]]\n",
    "build_frame = [[0, 0, 0, 1],\n",
    "               [2, 0, 0, 1],\n",
    "               [4, 0, 0, 1],\n",
    "               [0, 1, 1, 1],\n",
    "               [1, 1, 1, 1],\n",
    "               [2, 1, 1, 1],\n",
    "               [3, 1, 1, 1],\n",
    "               [2, 0, 0, 0],\n",
    "               [1, 1, 1, 0],\n",
    "               [2, 2, 0, 1]]\n",
    "\n",
    "workspace = []\n",
    "for frame in build_frame:\n",
    "    x, y, a, isbuild = frame\n",
    "    # 설치한다면\n",
    "    if isbuild == 1:\n",
    "        # 기둥 설치\n",
    "        if a == 0:\n",
    "            if pillar_val(frame, workspace):\n",
    "                workspace.append([x, y, a])\n",
    "        # 보 설치\n",
    "        if a == 1:\n",
    "            if beam_val(frame, workspace):\n",
    "                workspace.append([x, y, a])\n",
    "    if isbuild == 0:\n",
    "        workspace.remove([x, y, a])\n",
    "        flag = True\n",
    "        # [x-1, y, 1], [x, y-1, 0], [x, y, 1], [x-1, y+1, 1], [x, y+1, 0], [x, y+1, 1]\n",
    "        if a == 0:\n",
    "            if [x-1, y, 1] in workspace:\n",
    "                if not beam_val([x-1, y, 1, 0], workspace): flag = False\n",
    "            if [x, y-1, 0] in workspace:\n",
    "                if not pillar_val([x, y-1, 0, 0], workspace): flag = False\n",
    "            if [x, y, 1] in workspace:\n",
    "                if not beam_val([x, y, 1, 0], workspace): flag = False\n",
    "            if [x-1, y+1, 1] in workspace:\n",
    "                if not beam_val([x-1, y+1, 1, 0], workspace): flag = False\n",
    "            if [x, y+1, 0] in workspace:\n",
    "                if not pillar_val([x, y+1, 0, 0], workspace): flag = False\n",
    "            if [x, y+1, 1] in workspace:\n",
    "                if not beam_val([x, y+1, 1, 0], workspace): flag = False\n",
    "\n",
    "        # [x, y, 0], [x-1, y, 1], [x, y-1, 0], [x+1, y, 0], [x+1, y, 1], [x+1, y-1, 0]\n",
    "        if a == 1:\n",
    "            if [x, y, 0] in workspace:\n",
    "                if not pillar_val([x, y, 0, 1], workspace): flag = False\n",
    "            if [x-1, y, 1] in workspace:\n",
    "                if not beam_val([x-1, y, 1, 1], workspace): flag = False\n",
    "            if [x, y-1, 0] in workspace:\n",
    "                if not pillar_val([x, y-1, 0, 1], workspace): flag = False\n",
    "            if [x+1, y, 0] in workspace:\n",
    "                if not pillar_val([x+1, y, 0, 1], workspace): flag = False\n",
    "            if [x+1, y, 1] in workspace:\n",
    "                if not beam_val([x+1, y, 1, 1], workspace): flag = False\n",
    "            if [x+1, y-1, 0] in workspace:\n",
    "                if not pillar_val([x+1, y-1, 0, 1], workspace): flag = False\n",
    "\n",
    "        # print(f'flag: {flag}')\n",
    "        if flag == False:\n",
    "            workspace.append([x, y, a])\n",
    "\n",
    "workspace.sort()\n",
    "print(workspace)"
   ],
   "metadata": {
    "collapsed": false,
    "pycharm": {
     "name": "#%%\n"
    }
   }
  },
  {
   "cell_type": "markdown",
   "source": [
    "1. 설치할 것이 기둥이라면,\n",
    "    바닥에 있거나, -> if y == 0\n",
    "    보의 한쪽 끝에 있거나, -> [x-1, y, 1] or [x, y, 1]이 존재하면\n",
    "    다른 기둥위에 있다면 세운다. -> [x, y-1, 0]이 존재하면\n",
    "2. 설치할 것이 보라면,\n",
    "    한쪽 끝부분이 기둥 위에 있거나 -> if exist [x, y-1, 0] or [x+1, y-1, 0]\n",
    "    또는 양쪽 끝부분이 다른 보와 동시에 연결되어 있어야한다. -> if [x-1, y, 1] and [x+1, y, 1]\n",
    "3. 삭제한다면, 탐색 후 삭제할 수 있다면 삭제\n",
    "    삭제하고자 하는 구조물을 제외하여 기둥, 보의 양끝 자리에 붙어 있는 기둥, 보의 validation을 실시\n",
    "    하나라도 조건을 만족하지 않으면 다시 append\n"
   ],
   "metadata": {
    "collapsed": false,
    "pycharm": {
     "name": "#%% md\n"
    }
   }
  }
 ],
 "metadata": {
  "kernelspec": {
   "display_name": "Python 3",
   "language": "python",
   "name": "python3"
  },
  "language_info": {
   "codemirror_mode": {
    "name": "ipython",
    "version": 2
   },
   "file_extension": ".py",
   "mimetype": "text/x-python",
   "name": "python",
   "nbconvert_exporter": "python",
   "pygments_lexer": "ipython2",
   "version": "2.7.6"
  }
 },
 "nbformat": 4,
 "nbformat_minor": 0
}