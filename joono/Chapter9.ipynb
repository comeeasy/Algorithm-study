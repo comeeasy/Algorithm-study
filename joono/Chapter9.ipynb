{
 "cells": [
  {
   "cell_type": "markdown",
   "metadata": {
    "collapsed": true,
    "pycharm": {
     "name": "#%% md\n"
    }
   },
   "source": [
    "# 최단 경로\n",
    "\n",
    "## 가장 빠르게 도달하는 방법\n",
    "- 최단 경로 문제는 보통 그래프를 이용해 해결하게 된다.\n",
    "- 알고리즘으로는 다익스트라, 플로이드 워셜 알고리즘 유형을 다루려고 한다.\n",
    "### 다익스트라 최단 경로 알고리즘\n",
    "- __음의 간선이 없어야 정상적으로 작동한다.__\n",
    "- GPS 소프트웨어의 기본 알고리즘으로 채택되곤 한다.\n",
    "- greedy 알고리즘으로 분류됨\n",
    "\n",
    "1. 출발 노드를 설정한다.\n",
    "2. 최단 거리 테이블을 초기화한다.\n",
    "3. 방문하지 않은 노드 중에서 최단 거리가 가장 짧은 노드를 선택한다.\n",
    "4. 해당 노드를 거쳐 다른 노드로 가는 비용을 계산하여 최단 거리 테이블을 갱신한다.\n",
    "5. 위 과정에서 3, 4를 반복한다."
   ]
  },
  {
   "cell_type": "code",
   "execution_count": null,
   "outputs": [],
   "source": [],
   "metadata": {
    "collapsed": false,
    "pycharm": {
     "name": "#%%\n"
    }
   }
  }
 ],
 "metadata": {
  "kernelspec": {
   "display_name": "Python 3",
   "language": "python",
   "name": "python3"
  },
  "language_info": {
   "codemirror_mode": {
    "name": "ipython",
    "version": 2
   },
   "file_extension": ".py",
   "mimetype": "text/x-python",
   "name": "python",
   "nbconvert_exporter": "python",
   "pygments_lexer": "ipython2",
   "version": "2.7.6"
  }
 },
 "nbformat": 4,
 "nbformat_minor": 0
}