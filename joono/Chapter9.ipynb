{
 "cells": [
  {
   "cell_type": "markdown",
   "metadata": {
    "collapsed": true,
    "pycharm": {
     "name": "#%% md\n"
    }
   },
   "source": [
    "# 최단 경로\n",
    "\n",
    "## 가장 빠르게 도달하는 방법\n",
    "- 최단 경로 문제는 보통 그래프를 이용해 해결하게 된다.\n",
    "- 알고리즘으로는 다익스트라, 플로이드 워셜 알고리즘 유형을 다루려고 한다.\n",
    "### 다익스트라 최단 경로 알고리즘\n",
    "- __음의 간선이 없어야 정상적으로 작동한다.__\n",
    "- GPS 소프트웨어의 기본 알고리즘으로 채택되곤 한다.\n",
    "- greedy 알고리즘으로 분류됨\n",
    "\n",
    "1. 출발 노드를 설정한다.\n",
    "2. 최단 거리 테이블을 초기화한다.\n",
    "3. 방문하지 않은 노드 중에서 최단 거리가 가장 짧은 노드를 선택한다.\n",
    "4. 해당 노드를 거쳐 다른 노드로 가는 비용을 계산하여 최단 거리 테이블을 갱신한다.\n",
    "5. 위 과정에서 3, 4를 반복한다."
   ]
  },
  {
   "cell_type": "markdown",
   "source": [
    "### 방법 1. 간단한 다익스트라 알고리즘"
   ],
   "metadata": {
    "collapsed": false,
    "pycharm": {
     "name": "#%% md\n"
    }
   }
  },
  {
   "cell_type": "code",
   "execution_count": 3,
   "outputs": [
    {
     "name": "stdout",
     "output_type": "stream",
     "text": [
      "0\n",
      "2\n",
      "3\n",
      "1\n",
      "2\n",
      "4\n"
     ]
    }
   ],
   "source": [
    "INF = int(1e9)\n",
    "\n",
    "n, m = map(int, input().split())\n",
    "start = int(input())\n",
    "graph = [[] for i in range(n+1)]\n",
    "visited = [False] * (n+1)\n",
    "distance = [INF] * (n+1)\n",
    "\n",
    "for _ in range(m):\n",
    "    a, b, c = map(int, input().split())\n",
    "    graph[a].append((b, c))\n",
    "\n",
    "def get_smallest_node():\n",
    "    min_value = INF\n",
    "    index = 0\n",
    "    for i in range(1, n+1):\n",
    "        if distance[i] < min_value and not visited[i]:\n",
    "            min_value = distance[i]\n",
    "            index = i\n",
    "\n",
    "    return index\n",
    "\n",
    "def dijkstra(start):\n",
    "    distance[start] = 0\n",
    "    visited[start] = True\n",
    "\n",
    "    for node in graph[start]:\n",
    "        distance[node[0]] = node[1]\n",
    "    for i in range(n-1):\n",
    "        now = get_smallest_node()\n",
    "        visited[now] = True\n",
    "\n",
    "        for node in graph[now]:\n",
    "            cost = distance[now] + node[1]\n",
    "\n",
    "            if cost < distance[node[0]]:\n",
    "                distance[node[0]] = cost\n",
    "\n",
    "dijkstra(start)\n",
    "\n",
    "for i in range(1, n+1):\n",
    "    if distance[i] == INF:\n",
    "        print('INFINITY')\n",
    "    else:\n",
    "        print(distance[i])"
   ],
   "metadata": {
    "collapsed": false,
    "pycharm": {
     "name": "#%%\n"
    }
   }
  },
  {
   "cell_type": "markdown",
   "source": [
    "위에서 사용한 알고리즘의 시간 복잡도는 O(V^2)이다.<br>\n",
    "왜냐하면 총 V번에 걸쳐서 최단 거리가 가장 짧은 노드를 선형 탐색하고<br>\n",
    "현재 노드와 연결된 노드를 일일이 확인하기 때문이다.<br>\n",
    "\n",
    "### 방법 2. 개선된 다익스트라 알고리즘\n",
    "- 최단 거리가 가장 짧은 노드를 선형적으로 찾는 것이 아니라 더욱더 빠르게 찾는 방법을 적용\n",
    "- 여기서 위 방법을 heap을 사용해 구현한다."
   ],
   "metadata": {
    "collapsed": false,
    "pycharm": {
     "name": "#%% md\n"
    }
   }
  },
  {
   "cell_type": "code",
   "execution_count": 10,
   "outputs": [
    {
     "name": "stdout",
     "output_type": "stream",
     "text": [
      "0\n",
      "2\n",
      "3\n",
      "1\n",
      "2\n",
      "4\n"
     ]
    }
   ],
   "source": [
    "import heapq\n",
    "INF = int(1e9)\n",
    "n, m = map(int, input().split())\n",
    "start = int(input())\n",
    "graph = [[] for i in range(n+1)]\n",
    "distance = [INF] * (n+1)\n",
    "visited = [False] * (n+1)\n",
    "\n",
    "for _ in range(m):\n",
    "    from_node, to_node, weight = map(int, input().split())\n",
    "    graph[from_node].append((to_node, weight))\n",
    "\n",
    "def dijkstra(start):\n",
    "    q = []\n",
    "    heapq.heappush(q, (0, start))\n",
    "    distance[start] = 0\n",
    "    visited[start] = False\n",
    "\n",
    "    while q:\n",
    "        dist, now = heapq.heappop(q)\n",
    "        if visited[now]:\n",
    "            continue\n",
    "        else:\n",
    "            for node in graph[now]:\n",
    "                cost = dist + node[1]\n",
    "                if cost < distance[node[0]]:\n",
    "                    distance[node[0]] = cost\n",
    "                    heapq.heappush(q, (cost, node[0]))\n",
    "\n",
    "\n",
    "dijkstra(start)\n",
    "\n",
    "for i in range(1, n+1):\n",
    "    if distance[i] == INF:\n",
    "        print('INFINITY')\n",
    "    else:\n",
    "        print(distance[i])"
   ],
   "metadata": {
    "collapsed": false,
    "pycharm": {
     "name": "#%%\n"
    }
   }
  },
  {
   "cell_type": "markdown",
   "source": [
    "# Floyd-Warshall Algorithm\n",
    "- 다익스트라 알고리즘은 한 지점에서 다른 지점까지의 최단 경로를 구하는 경우에 사용할 수 있다.\n",
    "- 플로이드 워셜 알고리즘은 __모든 지점에서 다른 모든 지점까지의 최단 경로를 모두 구할 경우에 사용할 수 있다.__\n",
    "\n",
    "- D_ab = min(D_ab, D_ak + D_kb)\n",
    "- 위 점화식에 따라 2차원 distance table을 update한다."
   ],
   "metadata": {
    "collapsed": false,
    "pycharm": {
     "name": "#%% md\n"
    }
   }
  },
  {
   "cell_type": "code",
   "execution_count": 15,
   "outputs": [
    {
     "name": "stdout",
     "output_type": "stream",
     "text": [
      "  0   4   8   6 \n",
      "  3   0   7   9 \n",
      "  5   9   0   4 \n",
      "  7  11   2   0 \n"
     ]
    }
   ],
   "source": [
    "INF = int(1e9)\n",
    "\n",
    "n, m = map(int, input().split())\n",
    "graph = [[INF] * (n+1) for _ in range(n+1)]\n",
    "\n",
    "for diagonal in range(1, n+1):\n",
    "    graph[diagonal][diagonal] = 0\n",
    "\n",
    "for _ in range(m):\n",
    "    a, b, c = map(int, input().split())\n",
    "    graph[a][b] = c\n",
    "\n",
    "for k in range(1, n+1):\n",
    "    for a in range(1, n+1):\n",
    "        for b in range(1, n+1):\n",
    "            graph[a][b] = min(graph[a][b], graph[a][k] + graph[k][b])\n",
    "\n",
    "for a in range(1, n+1):\n",
    "    for b in range(1, n+1):\n",
    "        if graph[a][b] == INF:\n",
    "            print('INF', end=' ')\n",
    "        else:\n",
    "            print(f'{graph[a][b]:3d}', end=\" \")\n",
    "    print()"
   ],
   "metadata": {
    "collapsed": false,
    "pycharm": {
     "name": "#%%\n"
    }
   }
  },
  {
   "cell_type": "markdown",
   "source": [
    "# 미래 도시\n",
    "\n",
    "- 다익스트라 알고리즘으로 해결"
   ],
   "metadata": {
    "collapsed": false,
    "pycharm": {
     "name": "#%% md\n"
    }
   }
  },
  {
   "cell_type": "code",
   "execution_count": null,
   "outputs": [],
   "source": [
    "import heapq\n",
    "INF = int(1e9)\n",
    "\n",
    "N, M = map(int, input().split())\n",
    "# 1번부터 X번 회사까지 가는 것이므로 다익스트라 알고리즘 이용\n",
    "\n",
    "graph = [[] for _ in range(N+1)]\n",
    "for _ in range(M):\n",
    "    from_node, to_node = map(int, input().split())\n",
    "    graph[from_node].append((to_node, 1))\n",
    "    graph[to_node].append((from_node, 1))\n",
    "\n",
    "X, K = map(int, input().split())\n",
    "\n",
    "def min_distance(start, end):\n",
    "    distance = [INF] * (N+1)\n",
    "    visited = [False] * (N+1)\n",
    "\n",
    "    distance[start] = 0\n",
    "    q = []\n",
    "    heapq.heappush(q, (0, start))\n",
    "\n",
    "    while q:\n",
    "\n",
    "        dist, now = heapq.heappop(q)\n",
    "        if not visited[now]:\n",
    "            visited[now] = True\n",
    "\n",
    "            for node in graph[now]:\n",
    "                cost = dist + node[1]\n",
    "                if cost < distance[node[0]]:\n",
    "                    distance[node[0]] = cost\n",
    "                    heapq.heappush(q, (cost, node[0]))\n",
    "\n",
    "    return distance[end]\n",
    "\n",
    "distance_1_K = min_distance(1, K)\n",
    "distance_K_X = min_distance(K, X)\n",
    "\n",
    "result = distance_1_K + distance_K_X\n",
    "result = -1 if result >= INF else result\n",
    "print(result)"
   ],
   "metadata": {
    "collapsed": false,
    "pycharm": {
     "name": "#%%\n"
    }
   }
  },
  {
   "cell_type": "markdown",
   "source": [
    "답지 해설"
   ],
   "metadata": {
    "collapsed": false,
    "pycharm": {
     "name": "#%% md\n"
    }
   }
  },
  {
   "cell_type": "code",
   "execution_count": 33,
   "outputs": [
    {
     "name": "stdout",
     "output_type": "stream",
     "text": [
      "3\n"
     ]
    }
   ],
   "source": [
    "INF = int(1e9)\n",
    "\n",
    "n, m = map(int, input().split())\n",
    "graph = [[INF] * (n+1) for _ in range(n+1)]\n",
    "\n",
    "for d in range(1, n+1):\n",
    "    graph[d][d] = 0\n",
    "\n",
    "for _ in range(m):\n",
    "    a, b = map(int, input().split())\n",
    "    graph[a][b] = 1\n",
    "    graph[b][a] = 1\n",
    "\n",
    "x, k = map(int, input().split())\n",
    "\n",
    "for k in range(1, n+1):\n",
    "    for a in range(1, n+1):\n",
    "        for b in range(1, n+1):\n",
    "            graph[a][b] = min(graph[a][b], graph[a][k] + graph[k][b])\n",
    "\n",
    "distance = graph[1][k] + graph[k][x]\n",
    "print(-1 if distance >= INF else distance)"
   ],
   "metadata": {
    "collapsed": false,
    "pycharm": {
     "name": "#%%\n"
    }
   }
  },
  {
   "cell_type": "markdown",
   "source": [
    "# 전보\n",
    "\n",
    "- floyd-warshall 알고리즘으로 풀면 될거 같다"
   ],
   "metadata": {
    "collapsed": false,
    "pycharm": {
     "name": "#%% md\n"
    }
   }
  },
  {
   "cell_type": "code",
   "execution_count": 39,
   "outputs": [
    {
     "name": "stdout",
     "output_type": "stream",
     "text": [
      "2 4\n"
     ]
    }
   ],
   "source": [
    "import heapq\n",
    "\n",
    "n, m, c = map(int, input().split())\n",
    "graph = [[INF] * (n+1) for _ in range(n+1)]\n",
    "for _ in range(m):\n",
    "    x, y, z = map(int, input().split())\n",
    "    graph[x][y] = z\n",
    "\n",
    "for d in range(n+1):\n",
    "    graph[d][d] = 0\n",
    "\n",
    "for k in range(1, n+1):\n",
    "    for a in range(1, n+1):\n",
    "        for b in range(1, n+1):\n",
    "            graph[a][b] = min(graph[a][b], graph[a][k] + graph[k][b])\n",
    "\n",
    "city_message_got = -1\n",
    "max_time = 0\n",
    "for city_num in range(1, n+1):\n",
    "    if graph[c][city_num] == INF:\n",
    "        continue\n",
    "\n",
    "    city_message_got += 1\n",
    "    if graph[c][city_num] > max_time:\n",
    "        max_time = graph[c][city_num]\n",
    "\n",
    "print(f'{city_message_got} {max_time}')"
   ],
   "metadata": {
    "collapsed": false,
    "pycharm": {
     "name": "#%%\n"
    }
   }
  },
  {
   "cell_type": "markdown",
   "source": [
    "- 아니다 다익스트라 알고리즘으로 푸는게 맞다"
   ],
   "metadata": {
    "collapsed": false,
    "pycharm": {
     "name": "#%% md\n"
    }
   }
  },
  {
   "cell_type": "code",
   "execution_count": 44,
   "outputs": [
    {
     "name": "stdout",
     "output_type": "stream",
     "text": [
      "2 4\n"
     ]
    }
   ],
   "source": [
    "import heapq\n",
    "INF = int(1e9)\n",
    "\n",
    "n, m, c = map(int, input().split())\n",
    "graph = [[] for _ in range(n+1)]\n",
    "for _ in range(m):\n",
    "    x, y, z = map(int, input().split())\n",
    "    graph[x].append((y, z))\n",
    "\n",
    "distance = [INF] * (n+1)\n",
    "visited  = [False] * (n+1)\n",
    "\n",
    "distance[c] = 0\n",
    "q = []\n",
    "heapq.heappush(q, (0, c))\n",
    "while q:\n",
    "    dist, now = heapq.heappop(q)\n",
    "    if not visited[now]:\n",
    "        visited[now] = True\n",
    "        for node in graph[now]:\n",
    "            cost = dist + node[1]\n",
    "            if cost < distance[node[0]]:\n",
    "                distance[node[0]] = cost\n",
    "                heapq.heappush(q, (cost, node[0]))\n",
    "\n",
    "city_message_got = -1\n",
    "max_time = 0\n",
    "for dist in distance:\n",
    "    if dist == INF:\n",
    "        continue\n",
    "\n",
    "    city_message_got += 1\n",
    "    if dist > max_time:\n",
    "        max_time = dist\n",
    "\n",
    "print(f'{city_message_got} {max_time}')\n",
    "\n",
    "\n",
    "\n"
   ],
   "metadata": {
    "collapsed": false,
    "pycharm": {
     "name": "#%%\n"
    }
   }
  }
 ],
 "metadata": {
  "kernelspec": {
   "display_name": "Python 3",
   "language": "python",
   "name": "python3"
  },
  "language_info": {
   "codemirror_mode": {
    "name": "ipython",
    "version": 2
   },
   "file_extension": ".py",
   "mimetype": "text/x-python",
   "name": "python",
   "nbconvert_exporter": "python",
   "pygments_lexer": "ipython2",
   "version": "2.7.6"
  }
 },
 "nbformat": 4,
 "nbformat_minor": 0
}