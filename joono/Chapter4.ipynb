{
 "cells": [
  {
   "cell_type": "markdown",
   "metadata": {
    "collapsed": true,
    "pycharm": {
     "name": "#%% md\n"
    }
   },
   "source": [
    "# Chapter 4\n",
    "\n",
    "## 상하좌우\n",
    "\n",
    "input:\n",
    "    N\n",
    "    directions"
   ]
  },
  {
   "cell_type": "code",
   "execution_count": 16,
   "outputs": [
    {
     "ename": "ValueError",
     "evalue": "invalid literal for int() with base 10: ''",
     "output_type": "error",
     "traceback": [
      "\u001B[1;31m---------------------------------------------------------------------------\u001B[0m",
      "\u001B[1;31mValueError\u001B[0m                                Traceback (most recent call last)",
      "\u001B[1;32m<ipython-input-16-b74f07db8f9e>\u001B[0m in \u001B[0;36m<module>\u001B[1;34m\u001B[0m\n\u001B[1;32m----> 1\u001B[1;33m \u001B[0mN\u001B[0m \u001B[1;33m=\u001B[0m \u001B[0mint\u001B[0m\u001B[1;33m(\u001B[0m\u001B[0minput\u001B[0m\u001B[1;33m(\u001B[0m\u001B[1;33m)\u001B[0m\u001B[1;33m)\u001B[0m\u001B[1;33m\u001B[0m\u001B[1;33m\u001B[0m\u001B[0m\n\u001B[0m\u001B[0;32m      2\u001B[0m \u001B[0mdirs\u001B[0m \u001B[1;33m=\u001B[0m \u001B[0mlist\u001B[0m\u001B[1;33m(\u001B[0m\u001B[0minput\u001B[0m\u001B[1;33m(\u001B[0m\u001B[1;33m)\u001B[0m\u001B[1;33m.\u001B[0m\u001B[0msplit\u001B[0m\u001B[1;33m(\u001B[0m\u001B[1;33m)\u001B[0m\u001B[1;33m)\u001B[0m\u001B[1;33m\u001B[0m\u001B[1;33m\u001B[0m\u001B[0m\n\u001B[0;32m      3\u001B[0m \u001B[1;33m\u001B[0m\u001B[0m\n\u001B[0;32m      4\u001B[0m \u001B[1;32mclass\u001B[0m \u001B[0mPosition\u001B[0m\u001B[1;33m:\u001B[0m\u001B[1;33m\u001B[0m\u001B[1;33m\u001B[0m\u001B[0m\n\u001B[0;32m      5\u001B[0m     \u001B[1;32mdef\u001B[0m \u001B[0m__init__\u001B[0m\u001B[1;33m(\u001B[0m\u001B[0mself\u001B[0m\u001B[1;33m,\u001B[0m \u001B[0mx\u001B[0m\u001B[1;33m,\u001B[0m \u001B[0my\u001B[0m\u001B[1;33m)\u001B[0m\u001B[1;33m:\u001B[0m\u001B[1;33m\u001B[0m\u001B[1;33m\u001B[0m\u001B[0m\n",
      "\u001B[1;31mValueError\u001B[0m: invalid literal for int() with base 10: ''"
     ]
    }
   ],
   "source": [
    "N = int(input())\n",
    "dirs = list(input().split())\n",
    "\n",
    "class Position:\n",
    "    def __init__(self, x, y):\n",
    "        self.x = x\n",
    "        self.y = y\n",
    "\n",
    "    def __add__(self, other):\n",
    "        return Position(self.x + other.x, self.y + other.y)\n",
    "\n",
    "    def __repr__(self):\n",
    "        return f'{self.x} {self.y}'\n",
    "\n",
    "class Grid:\n",
    "    def __init__(self, N):\n",
    "        self.N = N\n",
    "\n",
    "    def __contains__(self, item):\n",
    "        return 0 < item.x <= self.N and 0 < item.y <= self.N\n",
    "\n",
    "directions = {'R': Position(0, 1), 'U': Position(-1, 0),\n",
    "              'L': Position(0, -1), 'D': Position(1, 0)}\n",
    "cur_position = Position(1, 1)\n",
    "grid = Grid(N)\n",
    "\n",
    "for dir in dirs:\n",
    "    next_position = cur_position + directions[dir]\n",
    "    if next_position in grid:\n",
    "        cur_position = next_position\n",
    "\n",
    "print(cur_position)"
   ],
   "metadata": {
    "collapsed": false,
    "pycharm": {
     "name": "#%%\n"
    }
   }
  },
  {
   "cell_type": "markdown",
   "source": [
    "# 시각\n",
    "\n",
    "- 정수 N이 입력되면 00시 00분 00초부터 N시 59분 59초까지의 모든 시각 중에서<br>\n",
    "  3이 하나라도 포함되는 모든 경우의 수를 구하는 프로그램을 작성하시오.<br>\n",
    "  예를 들어 1을 입력했을 때 다음은 3이 하나라도 포함되어 있으므로 세어야 하는 시각이다.<br>\n",
    "  <br>\n",
    "  1. 00시02분03초<br>\n",
    "  2. 00시13분30초\n",
    "\n",
    "input : N"
   ],
   "metadata": {
    "collapsed": false,
    "pycharm": {
     "name": "#%% md\n"
    }
   }
  },
  {
   "cell_type": "code",
   "execution_count": 37,
   "outputs": [
    {
     "name": "stdout",
     "output_type": "stream",
     "text": [
      "01:00:00\n",
      "02:00:00\n",
      "03:00:00\n",
      "04:00:00\n",
      "05:00:00\n",
      "9900\n"
     ]
    }
   ],
   "source": [
    "from datetime import datetime\n",
    "from datetime import time\n",
    "\n",
    "def add_a_sec(_time):\n",
    "    hour, minute, second = _time.hour, _time.minute, _time.second\n",
    "    second += 1\n",
    "\n",
    "    if second == 60:\n",
    "        minute += 1\n",
    "        second = 0\n",
    "    if minute == 60:\n",
    "        hour += 1\n",
    "        minute = 0\n",
    "\n",
    "    if minute == 0 and second == 0:\n",
    "        print(time(hour=hour, minute=minute, second=second).__str__())\n",
    "\n",
    "    return time(hour=hour, minute=minute, second=second)\n",
    "\n",
    "N = int(input())\n",
    "cur_time = time(hour=0, minute=0, second=0)\n",
    "cnt = 0\n",
    "while(cur_time < time(hour=N, minute=0, second=0)):\n",
    "    # print(cur_time)\n",
    "    cnt += 1 if '3' in cur_time.__str__() else 0\n",
    "    cur_time = add_a_sec(cur_time)\n",
    "\n",
    "print(cnt)\n",
    "\n",
    "\n"
   ],
   "metadata": {
    "collapsed": false,
    "pycharm": {
     "name": "#%%\n"
    }
   }
  }
 ],
 "metadata": {
  "kernelspec": {
   "display_name": "Python 3",
   "language": "python",
   "name": "python3"
  },
  "language_info": {
   "codemirror_mode": {
    "name": "ipython",
    "version": 2
   },
   "file_extension": ".py",
   "mimetype": "text/x-python",
   "name": "python",
   "nbconvert_exporter": "python",
   "pygments_lexer": "ipython2",
   "version": "2.7.6"
  }
 },
 "nbformat": 4,
 "nbformat_minor": 0
}