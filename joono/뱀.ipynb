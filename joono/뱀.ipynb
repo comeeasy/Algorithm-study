{
 "cells": [
  {
   "cell_type": "markdown",
   "metadata": {
    "collapsed": true,
    "pycharm": {
     "name": "#%% md\n"
    }
   },
   "source": [
    "### 뱀\n",
    "\n",
    "### 문제 설명\n",
    "사과를 먹으면 뱀의 길이가 늘어나고 벽 또는 자신의 몸과 부딪히면 게임이 끝난다.<br>\n",
    "게임은 NxN 정사각 보드 위에서 진행되고, 몇몇 칸에는 사과가 놓여져 있다.<br>\n",
    "\n",
    "게임을 시작할 때, 뱀은 맨 위 맨 좌측에 위치하고 뱀의 길이는1이다. 뱀은 처음에 오른쪽을 향한다.\n",
    "뱀은 매 초마다 이동을 하는데 다음과 같은 규칙을 따른다.\n",
    "- 먼저 몸길이를 늘려 머리를 다음 칸에 위치시킨다.<br>\n",
    "- 만약 이동한 칸에 사과가 있다면, 그 칸에 있던 사과가 없어지고 꼬리는 움직이지 않는다.<br>\n",
    "- 만약 이동한 칸에 사과가 없다면, 몸길이를 줄여서 꼬리가 위치한 칸을 비워준다.<br>\n",
    "\n",
    "사과의 위치와 뱀의 이동 경로가 주어질 때 이 게임이 몇 초에 끝나는지 계산하라.<br>\n",
    "\n",
    "### input\n",
    "N: 보드의 크기\n",
    "K: 사과의 갯수 : 첫 번째 정수는 행, 두 번째 정수는 열\n",
    "아래의 K줄: 사과의 위치\n",
    "L: 뱀의 이동 갯수\n",
    "아래의 L줄: 뱀의 이동 스케줄"
   ]
  },
  {
   "cell_type": "code",
   "execution_count": 17,
   "outputs": [
    {
     "name": "stdout",
     "output_type": "stream",
     "text": [
      "21\n"
     ]
    }
   ],
   "source": [
    "N = int(input())\n",
    "K = int(input())\n",
    "\n",
    "apples = []\n",
    "for _ in range(K):\n",
    "    apples.append(list(map(int, input().split())))\n",
    "\n",
    "L = int(input())\n",
    "snake_schedule = {}\n",
    "for _ in range(L):\n",
    "    time, dir = input().split()\n",
    "    snake_schedule[time] = dir\n",
    "\n",
    "time = 0\n",
    "directions = [[0, 1],   # 동\n",
    "              [1, 0],   # 남\n",
    "              [0, -1],  # 서\n",
    "              [-1, 0]]  # 북\n",
    "dir_idx = 0\n",
    "snake = [[1, 1]]\n",
    "\n",
    "while True:\n",
    "    time += 1\n",
    "\n",
    "    # 1. 뱀 머리의 다음 위치 계산\n",
    "    # key값은 str이기 때문에 잠시 변환하여 탐색\n",
    "    if str(time-1) in snake_schedule.keys():\n",
    "        # D는 오른쪽 L은 왼쪽\n",
    "        D_L = snake_schedule[str(time-1)]\n",
    "        if D_L == 'D':\n",
    "            dir_idx = (dir_idx + 1) % 4\n",
    "        if D_L == 'L':\n",
    "            dir_idx = (4 + dir_idx - 1) % 4\n",
    "\n",
    "    current_dir = directions[dir_idx]\n",
    "    next_head = [snake[0][0] + current_dir[0], snake[0][1] + current_dir[1]]\n",
    "\n",
    "    # 2. 만약 뱀 머리의 다음 위치가 몸이거나 맵 밖이면 종료, 현재 시간 return\n",
    "    if next_head in snake:\n",
    "        print(time)\n",
    "        break\n",
    "    elif next_head[0] < 1 or next_head[1] < 1 or\\\n",
    "            next_head[0] > N or next_head[1] > N:\n",
    "        print(time)\n",
    "        break\n",
    "\n",
    "    # 3. 그렇지 않다면 뱀의 머리를 다음 방향으로 옮긴다.\n",
    "    snake.insert(0, next_head)\n",
    "\n",
    "    # 4. 만약 뱀의 머리 위치에 사과가 있다면, 꼬리는 그냥 둔다.\n",
    "    if next_head in apples:\n",
    "        apples.remove(next_head)\n",
    "    # 5. 사과가 없다면, 꼬리의 위치를 자른다.\n",
    "    else:\n",
    "        snake.pop(-1)"
   ],
   "metadata": {
    "collapsed": false,
    "pycharm": {
     "name": "#%%\n"
    }
   }
  },
  {
   "cell_type": "markdown",
   "source": [
    "0. 시간++\n",
    "1. 뱀 머리의 위치를 계산\n",
    "    다음 시간대에 스케줄이 있다면, 방향을 전환한다.\n",
    "2. 만약 뱀 머리의 다음 위치가 몸이거나 맵 밖이면 종료, 현재 시간 return\n",
    "3. 그렇지 않다면 뱀의 머리를 다음 방향으로 옮긴다.\n",
    "4. 만약 뱀의 머리 위치에 사과가 있다면, 꼬리는 그냥 둔다.\n",
    "5. 사과가 없다면, 꼬리의 위치를 자른다."
   ],
   "metadata": {
    "collapsed": false,
    "pycharm": {
     "name": "#%% md\n"
    }
   }
  },
  {
   "cell_type": "markdown",
   "source": [
    "0 0 0 0 0\n",
    "0 h s s 0\n",
    "0 s s s 0\n",
    "0 0 0 0 0"
   ],
   "metadata": {
    "collapsed": false,
    "pycharm": {
     "name": "#%% md\n"
    }
   }
  }
 ],
 "metadata": {
  "kernelspec": {
   "display_name": "Python 3",
   "language": "python",
   "name": "python3"
  },
  "language_info": {
   "codemirror_mode": {
    "name": "ipython",
    "version": 2
   },
   "file_extension": ".py",
   "mimetype": "text/x-python",
   "name": "python",
   "nbconvert_exporter": "python",
   "pygments_lexer": "ipython2",
   "version": "2.7.6"
  }
 },
 "nbformat": 4,
 "nbformat_minor": 0
}