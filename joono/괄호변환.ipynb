{
 "cells": [
  {
   "cell_type": "markdown",
   "metadata": {
    "collapsed": true,
    "pycharm": {
     "name": "#%% md\n"
    }
   },
   "source": [
    "# 괄호 변환\n",
    "\n",
    "'(', ')' 로만 이루어진 문자열이 있을 때, '(', ')' 의 갯수가 같다면 **균형잡힌 괄호 문자열** 이라고 한다.\n",
    "그리고 '(', ')' 의 짝도 맞을 경우 **올바른 괄호 문자열** 이라고 한다.\n",
    "\n",
    "만약 주어진 문자열이 **균형잡힌 괄호 문자열** 이라면 아래의 과정을 통해 올바른 괄호 문자열로 변환할 수 있다.\n",
    "1. 입력이 빈 문자열인 경우, 빈 문자열을 반환한다.<br>\n",
    "2. 문자열 w를 두 **균형잡힌 괄호 문자열\" u, v로 분리한다. 단, u는 **균형잡힌 괄호 문자열**<br>\n",
    "   로 더 이상 분리할 수 없어야 하며, v는 빈 문자열이 될 수 있습니다.\n",
    "3. 수행한 결과 문자열을 u에 이어 붙인 후 반환한다.<br>\n",
    "    3-1. 문자열 u가 **올바른 괄호 문자열**이라면 문자열 v에 대해 1단계부터 다시 수행한다.\n",
    "4. 문자열 u가 **올바른 괄호 문자열**이 아니라면 아래 과정을 수행합니다.<br>\n",
    "    4-1. 빈 문자열에 첫 번째 문자로 '('를 붙입니다.<br>\n",
    "    4-2. 문자열 v에 대해 1단계부터 재귀적으로 수행한 결과 문자열을 이어 붙입니다.<br>\n",
    "    4-3. ')'를 다시 붙입니다.<br>\n",
    "    4-4. u의 첫 번째와 마지막 문자를 제거하고, 나머지 문자열의 괄호 방향을 뒤집어서 뒤에 붙입니다.<br>\n",
    "    4-5. 생성된 문자열을 반환합니다."
   ],
   "outputs": [
    {
     "ename": "SyntaxError",
     "evalue": "invalid syntax (<ipython-input-1-8febe18f0903>, line 3)",
     "output_type": "error",
     "traceback": [
      "\u001B[0;36m  File \u001B[0;32m\"<ipython-input-1-8febe18f0903>\"\u001B[0;36m, line \u001B[0;32m3\u001B[0m\n\u001B[0;31m    '(', ')' 로만 이루어진 문자열이 있을 때, '(', ')' 의 갯수가 같다면 *균형잡힌 괄호 문자열* 이라고 한다.\u001B[0m\n\u001B[0m             ^\u001B[0m\n\u001B[0;31mSyntaxError\u001B[0m\u001B[0;31m:\u001B[0m invalid syntax\n"
     ]
    }
   ],
   "execution_count": 1
  },
  {
   "cell_type": "code",
   "execution_count": 45,
   "outputs": [],
   "source": [
    "def is_correct(p):\n",
    "    stack = 0\n",
    "    for bracket in p:\n",
    "        if bracket == '(':\n",
    "            stack += 1\n",
    "        else:\n",
    "            if stack == 0:\n",
    "                return False\n",
    "            else:\n",
    "                stack -= 1\n",
    "    if stack == 0: return True\n",
    "    else: return False\n",
    "\n",
    "def is_balance(p):\n",
    "    stack = 0\n",
    "    for bracket in p:\n",
    "        if bracket == '(':  stack += 1\n",
    "        else :              stack -= 1\n",
    "    if stack == 0: return True\n",
    "    else: False\n",
    "\n",
    "def divide(p):\n",
    "    for i in range(1, len(p)+1):\n",
    "        if is_balance(p[:i]):\n",
    "            return p[:i], p[i:]\n",
    "\n",
    "def given_algorithm(p):\n",
    "    if p == '': return ''\n",
    "    u, v = divide(p)\n",
    "    if is_correct(u): return u + given_algorithm(v)\n",
    "    else:\n",
    "        result = '(' + given_algorithm(v) + ')'\n",
    "        new_u = ''\n",
    "        for c in u[1:len(u)-1]:\n",
    "            if c == '(': new_u += ')'\n",
    "            else : new_u += '('\n",
    "        return result + new_u"
   ],
   "metadata": {
    "collapsed": false,
    "pycharm": {
     "name": "#%%\n"
    }
   }
  },
  {
   "cell_type": "code",
   "execution_count": 49,
   "outputs": [
    {
     "name": "stdout",
     "output_type": "stream",
     "text": [
      "(\n",
      "1\n",
      "()\n",
      "0\n",
      ")\n",
      "-1\n",
      "))\n",
      "-2\n",
      "))(\n",
      "-1\n",
      "))((\n",
      "0\n",
      "(\n",
      "1\n",
      "()\n",
      "0\n",
      "()(())()\n"
     ]
    }
   ],
   "source": [
    "p = '()))((()'\n",
    "print(given_algorithm(p))\n"
   ],
   "metadata": {
    "collapsed": false,
    "pycharm": {
     "name": "#%%\n"
    }
   }
  },
  {
   "cell_type": "code",
   "execution_count": null,
   "outputs": [],
   "source": [],
   "metadata": {
    "collapsed": false,
    "pycharm": {
     "name": "#%%\n"
    }
   }
  }
 ],
 "metadata": {
  "kernelspec": {
   "display_name": "Python 3",
   "language": "python",
   "name": "python3"
  },
  "language_info": {
   "codemirror_mode": {
    "name": "ipython",
    "version": 2
   },
   "file_extension": ".py",
   "mimetype": "text/x-python",
   "name": "python",
   "nbconvert_exporter": "python",
   "pygments_lexer": "ipython2",
   "version": "2.7.6"
  }
 },
 "nbformat": 4,
 "nbformat_minor": 0
}