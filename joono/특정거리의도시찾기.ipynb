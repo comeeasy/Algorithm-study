{
 "cells": [
  {
   "cell_type": "markdown",
   "metadata": {
    "collapsed": true,
    "pycharm": {
     "name": "#%% md\n"
    }
   },
   "source": [
    "# 특정거리의 도시 찾기\n",
    "\n",
    "N: 도시의 갯수\n",
    "M: 도시 사이를 연결하는 도로의 갯수\n",
    "K: 특정 거리\n",
    "X: 출발 도시\n",
    "\n",
    "거리를 찾는 것은 BFS로 해결 가능하다."
   ]
  },
  {
   "cell_type": "code",
   "execution_count": 15,
   "outputs": [
    {
     "name": "stdout",
     "output_type": "stream",
     "text": [
      "-1\n"
     ]
    }
   ],
   "source": [
    "N, M, K, X = map(int, input().split())\n",
    "\n",
    "grid = [[] for _ in range(N+1)]\n",
    "for _ in range(M):\n",
    "    start, end = map(int, input().split())\n",
    "    grid[start].append(end)\n",
    "\n",
    "visited = [False] * (N+1)\n",
    "distances = [0] * (N+1)\n",
    "\n",
    "q = [X]\n",
    "visited[X] = True\n",
    "\n",
    "while q:\n",
    "    cur_node = q.pop(-1)\n",
    "\n",
    "    for node in grid[cur_node]:\n",
    "        if visited[node] == False:\n",
    "            visited[node] = True\n",
    "            distances[node] = distances[cur_node] + 1\n",
    "            q.append(node)\n",
    "\n",
    "result = []\n",
    "for node, distance in enumerate(distances):\n",
    "    if distance == K:\n",
    "        result.append(node)\n",
    "\n",
    "if result:\n",
    "    result.sort()\n",
    "    for node in result:\n",
    "        print(node)\n",
    "else:\n",
    "    print(-1)"
   ],
   "metadata": {
    "collapsed": false,
    "pycharm": {
     "name": "#%%\n"
    }
   }
  },
  {
   "cell_type": "code",
   "execution_count": null,
   "outputs": [],
   "source": [],
   "metadata": {
    "collapsed": false,
    "pycharm": {
     "name": "#%%\n"
    }
   }
  }
 ],
 "metadata": {
  "kernelspec": {
   "display_name": "Python 3",
   "language": "python",
   "name": "python3"
  },
  "language_info": {
   "codemirror_mode": {
    "name": "ipython",
    "version": 2
   },
   "file_extension": ".py",
   "mimetype": "text/x-python",
   "name": "python",
   "nbconvert_exporter": "python",
   "pygments_lexer": "ipython2",
   "version": "2.7.6"
  }
 },
 "nbformat": 4,
 "nbformat_minor": 0
}