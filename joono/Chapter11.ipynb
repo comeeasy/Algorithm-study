{
 "cells": [
  {
   "cell_type": "markdown",
   "metadata": {
    "collapsed": true,
    "pycharm": {
     "name": "#%% md\n"
    }
   },
   "source": [
    "# Greedy 문제"
   ]
  },
  {
   "cell_type": "markdown",
   "source": [
    "### 모험가 길드\n",
    "\n",
    "한 마을에 모험가가 N명 있습니다. 모험가 길드에서는 N명의 모험가를 대상으로 '공포도'를 측정했는데,<br>\n",
    "'공포도'가 높은 모험가는 쉽게 공포를 느껴 위험 상황에서 제대로 대처할 능력이 떨어진다.<br>\n",
    "\n",
    "공포도가 X인 모험가는 반드시 X명 이상으로 구성한 모험가 그룹에 참여해야 여행을 떠날 수 있다.<br>\n",
    "이때 최대로 떠날 수 있는 모험가 그룹의 수를 구하는 프로그램 작성"
   ],
   "metadata": {
    "collapsed": false,
    "pycharm": {
     "name": "#%% md\n"
    }
   }
  },
  {
   "cell_type": "code",
   "execution_count": 4,
   "outputs": [
    {
     "name": "stdout",
     "output_type": "stream",
     "text": [
      "[1, 2, 2, 2, 3]\n"
     ]
    }
   ],
   "source": [
    "N = int(input())\n",
    "M = list(map(int, input().split()))\n",
    "\n",
    "M.sort()\n",
    "print(M)"
   ],
   "metadata": {
    "collapsed": false,
    "pycharm": {
     "name": "#%%\n"
    }
   }
  },
  {
   "cell_type": "code",
   "execution_count": 5,
   "outputs": [
    {
     "name": "stdout",
     "output_type": "stream",
     "text": [
      "2\n"
     ]
    }
   ],
   "source": [
    "num_of_group = 0\n",
    "while M:\n",
    "    num_of_member_of_group = M.pop()\n",
    "\n",
    "    for _ in range(num_of_member_of_group - 1):\n",
    "        if M: M.pop()\n",
    "        else: break\n",
    "    else:\n",
    "        num_of_group += 1\n",
    "\n",
    "print(num_of_group)"
   ],
   "metadata": {
    "collapsed": false,
    "pycharm": {
     "name": "#%%\n"
    }
   }
  },
  {
   "cell_type": "markdown",
   "source": [
    "### 해결 전략\n",
    "\n",
    "겁쟁이들은 겁쟁이들을 최대한 많이 모으고 강한 모험가들은 최대한 조금씩 보내야한다.<br>\n",
    "따라서 겁쟁이들부터 강한 모험가까지 일렬로 줄을 세워 순서대로 조건에 맞추어 그룹을 지으면 된다.<br>"
   ],
   "metadata": {
    "collapsed": false,
    "pycharm": {
     "name": "#%% md\n"
    }
   }
  },
  {
   "cell_type": "markdown",
   "source": [
    "# 곱하기 혹은 더하기\n",
    "\n",
    "각 자리가 숫자 (0부터 9)로만 이루어진 문자열 S가 주어졌을 때, 왼쪽부터 오른쪽으로 하나씩 모든 숫자를 확인하며<br>\n",
    "숫자 사이에 'x'혹은 '+'연산자를 넣어 결과적으로 만들어질 수 있는 가장 큰 수를 구하는 프로그램 작성<br>\n",
    "\n",
    "단 모든 연산은 왼쪽에서 오른쪽 순서대로 이루어진다."
   ],
   "metadata": {
    "collapsed": false,
    "pycharm": {
     "name": "#%% md\n"
    }
   }
  },
  {
   "cell_type": "code",
   "execution_count": 12,
   "outputs": [
    {
     "name": "stdout",
     "output_type": "stream",
     "text": [
      "544320\n"
     ]
    }
   ],
   "source": [
    "S = list(map(int, list(input())))\n",
    "\n",
    "result = 0\n",
    "for n in S:\n",
    "    result = max(result + n, result * n)\n",
    "print(result)"
   ],
   "metadata": {
    "collapsed": false,
    "pycharm": {
     "name": "#%%\n"
    }
   }
  },
  {
   "cell_type": "markdown",
   "source": [
    "### 해결 전략\n",
    "+, * 둘 다 해봐서 더 큰 결과가 결과"
   ],
   "metadata": {
    "collapsed": false,
    "pycharm": {
     "name": "#%% md\n"
    }
   }
  },
  {
   "cell_type": "markdown",
   "source": [
    "# 문자열 뒤집기\n",
    "\n",
    "0과 1로만 이루어진 문자열 S가 있을 때 연속된 인덱스들의 값만을 뒤집을 수 있다. (0 -> 1 or 1 -> 0)\n",
    "이때 최소한의 행동으로 모두 같은 숫자를 만들 때, 최소한의 수를 구하시오"
   ],
   "metadata": {
    "collapsed": false,
    "pycharm": {
     "name": "#%% md\n"
    }
   }
  },
  {
   "cell_type": "code",
   "execution_count": 17,
   "outputs": [
    {
     "name": "stdout",
     "output_type": "stream",
     "text": [
      "[1, 1]\n",
      "[2, 1]\n",
      "[2, 2]\n",
      "[3, 2]\n",
      "[3, 3]\n",
      "[4, 3]\n",
      "[4, 4]\n",
      "[5, 4]\n",
      "[5, 5]\n",
      "[6, 5]\n",
      "[6, 6]\n",
      "[7, 6]\n",
      "[7, 7]\n",
      "[8, 7]\n",
      "[8, 8]\n",
      "[9, 8]\n",
      "[9, 9]\n",
      "[10, 9]\n",
      "[10, 10]\n",
      "[11, 10]\n",
      "[11, 11]\n",
      "[12, 11]\n",
      "[12, 12]\n",
      "[13, 12]\n",
      "[13, 13]\n",
      "[14, 13]\n",
      "[14, 14]\n",
      "14\n"
     ]
    }
   ],
   "source": [
    "S = list(map(int, list(input())))\n",
    "\n",
    "num = [0, 0]\n",
    "before_bit = S[0]\n",
    "num[before_bit] += 1\n",
    "for bit in S:\n",
    "    if bit != before_bit:\n",
    "        num[bit] += 1\n",
    "    before_bit = bit\n",
    "\n",
    "print(min(num))"
   ],
   "metadata": {
    "collapsed": false,
    "pycharm": {
     "name": "#%%\n"
    }
   }
  },
  {
   "cell_type": "markdown",
   "source": [
    "### 해결 전략\n",
    "\n",
    "각 비트들의 그룹의 개수를 세어 작은 그룹을 가진 수를 리턴"
   ],
   "metadata": {
    "collapsed": false,
    "pycharm": {
     "name": "#%% md\n"
    }
   }
  },
  {
   "cell_type": "markdown",
   "source": [
    "# 만들 수 없는 금액\n",
    "\n",
    "N개의 동전을 이용하여 만들수 없는 정수 금액중 최솟값을 구하는 프로그램"
   ],
   "metadata": {
    "collapsed": false,
    "pycharm": {
     "name": "#%% md\n"
    }
   }
  },
  {
   "cell_type": "code",
   "execution_count": 141,
   "outputs": [
    {
     "name": "stdout",
     "output_type": "stream",
     "text": [
      "8\n"
     ]
    }
   ],
   "source": [
    "n = int(input())\n",
    "coins = list(map(int, input().split()))\n",
    "coins.sort()\n",
    "\n",
    "target = 1\n",
    "for coin in coins:\n",
    "    if target < coin:\n",
    "        break\n",
    "    else:\n",
    "        target += coin\n",
    "\n",
    "print(target)"
   ],
   "metadata": {
    "collapsed": false,
    "pycharm": {
     "name": "#%%\n"
    }
   }
  },
  {
   "cell_type": "markdown",
   "source": [
    "# 볼링공 고르기\n",
    "\n",
    "A, B 두 사람이 볼링을 치는데 N개의 볼링공, 1부터 M의 무게를 갖는 볼링공이 있다.<br>\n",
    "각 볼링공은 무게가 다르더라도 서로 다른 볼링공이며 서로 무게가 다른 볼링공으로 볼링을 치려고 한다.<br>\n",
    "이때 각자 서로 고를 수 있는 볼링공 set의 경우의 갯수를 구하는 프로그램 작성"
   ],
   "metadata": {
    "collapsed": false,
    "pycharm": {
     "name": "#%% md\n"
    }
   }
  },
  {
   "cell_type": "code",
   "execution_count": 21,
   "outputs": [
    {
     "name": "stdout",
     "output_type": "stream",
     "text": [
      "25\n"
     ]
    }
   ],
   "source": [
    "N, M = map(int, input().split())\n",
    "balls = list(map(int, input().split()))\n",
    "\n",
    "num_of_case = 0\n",
    "for i in range(N):\n",
    "    for j in range(i+1, N):\n",
    "        if balls[i] != balls[j]:\n",
    "            num_of_case += 1\n",
    "print(num_of_case)"
   ],
   "metadata": {
    "collapsed": false,
    "pycharm": {
     "name": "#%%\n"
    }
   }
  },
  {
   "cell_type": "markdown",
   "source": [
    "### 해결 전략\n",
    "무게가 같더라도 모두 다른 볼링공으로 취급하므로 경우의 수를 하나하나 세야한다."
   ],
   "metadata": {
    "collapsed": false,
    "pycharm": {
     "name": "#%% md\n"
    }
   }
  },
  {
   "cell_type": "markdown",
   "source": [
    "# 무지의 먹방 라이브"
   ],
   "metadata": {
    "collapsed": false,
    "pycharm": {
     "name": "#%% md\n"
    }
   }
  },
  {
   "cell_type": "code",
   "execution_count": 29,
   "outputs": [
    {
     "name": "stdout",
     "output_type": "stream",
     "text": [
      "[2, 2, 3, 4]\n",
      "[2, 1, 3, 4]\n",
      "[2, 1, 2, 4]\n",
      "[2, 1, 2, 3]\n",
      "[1, 1, 2, 3]\n",
      "[1, 0, 2, 3]\n",
      "[1, 0, 1, 3]\n",
      "[1, 0, 1, 2]\n",
      "[0, 0, 1, 2]\n",
      "[0, 0, 0, 2]\n",
      "4\n"
     ]
    }
   ],
   "source": [
    "food_times = list(map(int, input().split()))\n",
    "dishes = len(food_times)\n",
    "\n",
    "k = int(input())\n",
    "idx = 0\n",
    "for _ in range(k):\n",
    "    while food_times[idx] == 0:\n",
    "        idx = (idx + 1) % dishes\n",
    "\n",
    "    food_times[idx] -= 1\n",
    "    print(food_times)\n",
    "    idx = (idx + 1) % dishes\n",
    "print(idx + 1)"
   ],
   "metadata": {
    "collapsed": false,
    "pycharm": {
     "name": "#%%\n"
    }
   }
  },
  {
   "cell_type": "markdown",
   "source": [
    "# 해결 전략\n",
    "K번을 먹은 후의 다음 음식을 알아내는 것이므로 하나씩 10번 먹고 그 다음의 순서만 알아내면 된다."
   ],
   "metadata": {
    "collapsed": false,
    "pycharm": {
     "name": "#%% md\n"
    }
   }
  },
  {
   "cell_type": "markdown",
   "source": [
    "# 럭키 스트레이트"
   ],
   "metadata": {
    "collapsed": false,
    "pycharm": {
     "name": "#%% md\n"
    }
   }
  },
  {
   "cell_type": "code",
   "execution_count": 31,
   "outputs": [
    {
     "name": "stdout",
     "output_type": "stream",
     "text": [
      "READY\n"
     ]
    }
   ],
   "source": [
    "S = list(map(int, input()))\n",
    "half = len(S) // 2\n",
    "\n",
    "if sum(S[:half]) == sum(S[half:]): print('LUCKY')\n",
    "else: print('READY')"
   ],
   "metadata": {
    "collapsed": false,
    "pycharm": {
     "name": "#%%\n"
    }
   }
  },
  {
   "cell_type": "markdown",
   "source": [
    "### 해결 전략\n",
    "절반씩 더하여 더한 값이 같은지 아닌지 비교"
   ],
   "metadata": {
    "collapsed": false,
    "pycharm": {
     "name": "#%% md\n"
    }
   }
  },
  {
   "cell_type": "markdown",
   "source": [
    "# 문자열 재정렬\n",
    "\n",
    "주어진 문자열에서 왼쪽에는 알파벳 정렬, 오른쪽에는 각 정수들의 합을 이어서 출력"
   ],
   "metadata": {
    "collapsed": false,
    "pycharm": {
     "name": "#%% md\n"
    }
   }
  },
  {
   "cell_type": "code",
   "execution_count": 38,
   "outputs": [
    {
     "name": "stdout",
     "output_type": "stream",
     "text": [
      "AADDIJJJKKLSS20\n"
     ]
    }
   ],
   "source": [
    "S = list(input())\n",
    "alphabet = [a for a in S if a.isalpha()]\n",
    "nums = sum(map(int, [n for n in S if n.isnumeric()]))\n",
    "alphabet.sort()\n",
    "result = ''.join(alphabet) + str(nums)\n",
    "print(result)"
   ],
   "metadata": {
    "collapsed": false,
    "pycharm": {
     "name": "#%%\n"
    }
   }
  },
  {
   "cell_type": "markdown",
   "source": [
    "### 해결 전략\n",
    "그냥 나눠서 정렬, 더해서 str으로 이어붙였다."
   ],
   "metadata": {
    "collapsed": false,
    "pycharm": {
     "name": "#%% md\n"
    }
   }
  },
  {
   "cell_type": "markdown",
   "source": [
    "# 문자열 압축"
   ],
   "metadata": {
    "collapsed": false,
    "pycharm": {
     "name": "#%% md\n"
    }
   }
  },
  {
   "cell_type": "code",
   "execution_count": 62,
   "outputs": [
    {
     "name": "stdout",
     "output_type": "stream",
     "text": [
      "xababcdcdababcdcd\n",
      "xababcdcdababcdcd\n",
      "xababcdcdababcdcd\n",
      "xababcdcdababcdcd\n",
      "xababcdcdababcdcd\n",
      "xababcdcdababcdcd\n",
      "xababcdcdababcdcd\n",
      "xababcdcdababcdcd\n",
      "xababcdcdababcdcd\n",
      "[17, 17, 17, 17, 17, 17, 17, 17]\n"
     ]
    }
   ],
   "source": [
    "s = input()\n",
    "len_s = len(s)\n",
    "print(s)\n",
    "\n",
    "len_results = []\n",
    "for len_unit in range(1, len_s//2 + 1):\n",
    "    result = ''\n",
    "    compare_str = s[:len_unit]\n",
    "    comp_deg = 1\n",
    "    idx = len_unit\n",
    "\n",
    "    while True:\n",
    "        if compare_str == s[idx:idx+len_unit]:\n",
    "            comp_deg += 1\n",
    "        else:\n",
    "            if comp_deg == 1:\n",
    "                result += compare_str\n",
    "            else:\n",
    "                result += str(comp_deg) + compare_str\n",
    "            compare_str = s[idx:idx+len_unit]\n",
    "            comp_deg = 1\n",
    "\n",
    "        idx += len_unit\n",
    "\n",
    "        if idx + len_unit > len_s:\n",
    "            if comp_deg == 1:\n",
    "                result += compare_str\n",
    "            else:\n",
    "                result += str(comp_deg) + compare_str\n",
    "            result += s[idx:]\n",
    "            print(result)\n",
    "            len_results.append(len(result))\n",
    "            break\n",
    "\n",
    "print(len_results)\n",
    "print(min(len_results))"
   ],
   "metadata": {
    "collapsed": false,
    "pycharm": {
     "name": "#%%\n"
    }
   }
  },
  {
   "cell_type": "markdown",
   "source": [
    "# 자물쇠와 열쇠"
   ],
   "metadata": {
    "collapsed": false,
    "pycharm": {
     "name": "#%% md\n"
    }
   }
  },
  {
   "cell_type": "code",
   "execution_count": 137,
   "outputs": [
    {
     "name": "stdout",
     "output_type": "stream",
     "text": [
      "[[0 0 0 0 0 0 0]\n",
      " [0 0 0 0 0 0 0]\n",
      " [0 0 1 1 1 0 0]\n",
      " [0 0 1 1 0 0 0]\n",
      " [0 0 1 0 1 0 0]\n",
      " [0 0 0 0 0 0 0]\n",
      " [0 0 0 0 0 0 0]]\n",
      "[[0 0 1]\n",
      " [0 0 1]\n",
      " [0 1 0]]\n",
      "conv_result\n",
      "[[0 0 1 0 0 0 0]\n",
      " [0 0 1 0 0 0 0]\n",
      " [0 1 1 1 1 0 0]\n",
      " [0 0 1 1 0 0 0]\n",
      " [0 0 1 0 1 0 0]\n",
      " [0 0 0 0 0 0 0]\n",
      " [0 0 0 0 0 0 0]]\n",
      "conv_result\n",
      "[[0 0 0 1 0 0 0]\n",
      " [0 0 0 1 0 0 0]\n",
      " [0 0 2 1 1 0 0]\n",
      " [0 0 1 1 0 0 0]\n",
      " [0 0 1 0 1 0 0]\n",
      " [0 0 0 0 0 0 0]\n",
      " [0 0 0 0 0 0 0]]\n",
      "conv_result\n",
      "[[0 0 0 0 1 0 0]\n",
      " [0 0 0 0 1 0 0]\n",
      " [0 0 1 2 1 0 0]\n",
      " [0 0 1 1 0 0 0]\n",
      " [0 0 1 0 1 0 0]\n",
      " [0 0 0 0 0 0 0]\n",
      " [0 0 0 0 0 0 0]]\n",
      "conv_result\n",
      "[[0 0 0 0 0 1 0]\n",
      " [0 0 0 0 0 1 0]\n",
      " [0 0 1 1 2 0 0]\n",
      " [0 0 1 1 0 0 0]\n",
      " [0 0 1 0 1 0 0]\n",
      " [0 0 0 0 0 0 0]\n",
      " [0 0 0 0 0 0 0]]\n",
      "conv_result\n",
      "[[0 0 0 0 0 0 1]\n",
      " [0 0 0 0 0 0 1]\n",
      " [0 0 1 1 1 1 0]\n",
      " [0 0 1 1 0 0 0]\n",
      " [0 0 1 0 1 0 0]\n",
      " [0 0 0 0 0 0 0]\n",
      " [0 0 0 0 0 0 0]]\n",
      "conv_result\n",
      "[[0 0 0 0 0 0 0]\n",
      " [0 0 1 0 0 0 0]\n",
      " [0 0 2 1 1 0 0]\n",
      " [0 1 1 1 0 0 0]\n",
      " [0 0 1 0 1 0 0]\n",
      " [0 0 0 0 0 0 0]\n",
      " [0 0 0 0 0 0 0]]\n",
      "conv_result\n",
      "[[0 0 0 0 0 0 0]\n",
      " [0 0 0 1 0 0 0]\n",
      " [0 0 1 2 1 0 0]\n",
      " [0 0 2 1 0 0 0]\n",
      " [0 0 1 0 1 0 0]\n",
      " [0 0 0 0 0 0 0]\n",
      " [0 0 0 0 0 0 0]]\n",
      "conv_result\n",
      "[[0 0 0 0 0 0 0]\n",
      " [0 0 0 0 1 0 0]\n",
      " [0 0 1 1 2 0 0]\n",
      " [0 0 1 2 0 0 0]\n",
      " [0 0 1 0 1 0 0]\n",
      " [0 0 0 0 0 0 0]\n",
      " [0 0 0 0 0 0 0]]\n",
      "conv_result\n",
      "[[0 0 0 0 0 0 0]\n",
      " [0 0 0 0 0 1 0]\n",
      " [0 0 1 1 1 1 0]\n",
      " [0 0 1 1 1 0 0]\n",
      " [0 0 1 0 1 0 0]\n",
      " [0 0 0 0 0 0 0]\n",
      " [0 0 0 0 0 0 0]]\n",
      "conv_result\n",
      "[[0 0 0 0 0 0 0]\n",
      " [0 0 0 0 0 0 1]\n",
      " [0 0 1 1 1 0 1]\n",
      " [0 0 1 1 0 1 0]\n",
      " [0 0 1 0 1 0 0]\n",
      " [0 0 0 0 0 0 0]\n",
      " [0 0 0 0 0 0 0]]\n",
      "conv_result\n",
      "[[0 0 0 0 0 0 0]\n",
      " [0 0 0 0 0 0 0]\n",
      " [0 0 2 1 1 0 0]\n",
      " [0 0 2 1 0 0 0]\n",
      " [0 1 1 0 1 0 0]\n",
      " [0 0 0 0 0 0 0]\n",
      " [0 0 0 0 0 0 0]]\n",
      "conv_result\n",
      "[[0 0 0 0 0 0 0]\n",
      " [0 0 0 0 0 0 0]\n",
      " [0 0 1 2 1 0 0]\n",
      " [0 0 1 2 0 0 0]\n",
      " [0 0 2 0 1 0 0]\n",
      " [0 0 0 0 0 0 0]\n",
      " [0 0 0 0 0 0 0]]\n",
      "conv_result\n",
      "[[0 0 0 0 0 0 0]\n",
      " [0 0 0 0 0 0 0]\n",
      " [0 0 1 1 2 0 0]\n",
      " [0 0 1 1 1 0 0]\n",
      " [0 0 1 1 1 0 0]\n",
      " [0 0 0 0 0 0 0]\n",
      " [0 0 0 0 0 0 0]]\n",
      "conv_result\n",
      "[[0 0 0 0 0 0 0]\n",
      " [0 0 0 0 0 0 0]\n",
      " [0 0 1 1 1 1 0]\n",
      " [0 0 1 1 0 1 0]\n",
      " [0 0 1 0 2 0 0]\n",
      " [0 0 0 0 0 0 0]\n",
      " [0 0 0 0 0 0 0]]\n",
      "conv_result\n",
      "[[0 0 0 0 0 0 0]\n",
      " [0 0 0 0 0 0 0]\n",
      " [0 0 1 1 1 0 1]\n",
      " [0 0 1 1 0 0 1]\n",
      " [0 0 1 0 1 1 0]\n",
      " [0 0 0 0 0 0 0]\n",
      " [0 0 0 0 0 0 0]]\n",
      "conv_result\n",
      "[[0 0 0 0 0 0 0]\n",
      " [0 0 0 0 0 0 0]\n",
      " [0 0 1 1 1 0 0]\n",
      " [0 0 2 1 0 0 0]\n",
      " [0 0 2 0 1 0 0]\n",
      " [0 1 0 0 0 0 0]\n",
      " [0 0 0 0 0 0 0]]\n",
      "conv_result\n",
      "[[0 0 0 0 0 0 0]\n",
      " [0 0 0 0 0 0 0]\n",
      " [0 0 1 1 1 0 0]\n",
      " [0 0 1 2 0 0 0]\n",
      " [0 0 1 1 1 0 0]\n",
      " [0 0 1 0 0 0 0]\n",
      " [0 0 0 0 0 0 0]]\n",
      "conv_result\n",
      "[[0 0 0 0 0 0 0]\n",
      " [0 0 0 0 0 0 0]\n",
      " [0 0 1 1 1 0 0]\n",
      " [0 0 1 1 1 0 0]\n",
      " [0 0 1 0 2 0 0]\n",
      " [0 0 0 1 0 0 0]\n",
      " [0 0 0 0 0 0 0]]\n",
      "conv_result\n",
      "[[0 0 0 0 0 0 0]\n",
      " [0 0 0 0 0 0 0]\n",
      " [0 0 1 1 1 0 0]\n",
      " [0 0 1 1 0 1 0]\n",
      " [0 0 1 0 1 1 0]\n",
      " [0 0 0 0 1 0 0]\n",
      " [0 0 0 0 0 0 0]]\n",
      "conv_result\n",
      "[[0 0 0 0 0 0 0]\n",
      " [0 0 0 0 0 0 0]\n",
      " [0 0 1 1 1 0 0]\n",
      " [0 0 1 1 0 0 1]\n",
      " [0 0 1 0 1 0 1]\n",
      " [0 0 0 0 0 1 0]\n",
      " [0 0 0 0 0 0 0]]\n",
      "conv_result\n",
      "[[0 0 0 0 0 0 0]\n",
      " [0 0 0 0 0 0 0]\n",
      " [0 0 1 1 1 0 0]\n",
      " [0 0 1 1 0 0 0]\n",
      " [0 0 2 0 1 0 0]\n",
      " [0 0 1 0 0 0 0]\n",
      " [0 1 0 0 0 0 0]]\n",
      "conv_result\n",
      "[[0 0 0 0 0 0 0]\n",
      " [0 0 0 0 0 0 0]\n",
      " [0 0 1 1 1 0 0]\n",
      " [0 0 1 1 0 0 0]\n",
      " [0 0 1 1 1 0 0]\n",
      " [0 0 0 1 0 0 0]\n",
      " [0 0 1 0 0 0 0]]\n",
      "conv_result\n",
      "[[0 0 0 0 0 0 0]\n",
      " [0 0 0 0 0 0 0]\n",
      " [0 0 1 1 1 0 0]\n",
      " [0 0 1 1 0 0 0]\n",
      " [0 0 1 0 2 0 0]\n",
      " [0 0 0 0 1 0 0]\n",
      " [0 0 0 1 0 0 0]]\n",
      "conv_result\n",
      "[[0 0 0 0 0 0 0]\n",
      " [0 0 0 0 0 0 0]\n",
      " [0 0 1 1 1 0 0]\n",
      " [0 0 1 1 0 0 0]\n",
      " [0 0 1 0 1 1 0]\n",
      " [0 0 0 0 0 1 0]\n",
      " [0 0 0 0 1 0 0]]\n",
      "conv_result\n",
      "[[0 0 0 0 0 0 0]\n",
      " [0 0 0 0 0 0 0]\n",
      " [0 0 1 1 1 0 0]\n",
      " [0 0 1 1 0 0 0]\n",
      " [0 0 1 0 1 0 1]\n",
      " [0 0 0 0 0 0 1]\n",
      " [0 0 0 0 0 1 0]]\n",
      "[[1 1 0]\n",
      " [0 0 1]\n",
      " [0 0 0]]\n",
      "conv_result\n",
      "[[1 1 0 0 0 0 0]\n",
      " [0 0 1 0 0 0 0]\n",
      " [0 0 1 1 1 0 0]\n",
      " [0 0 1 1 0 0 0]\n",
      " [0 0 1 0 1 0 0]\n",
      " [0 0 0 0 0 0 0]\n",
      " [0 0 0 0 0 0 0]]\n",
      "conv_result\n",
      "[[0 1 1 0 0 0 0]\n",
      " [0 0 0 1 0 0 0]\n",
      " [0 0 1 1 1 0 0]\n",
      " [0 0 1 1 0 0 0]\n",
      " [0 0 1 0 1 0 0]\n",
      " [0 0 0 0 0 0 0]\n",
      " [0 0 0 0 0 0 0]]\n",
      "conv_result\n",
      "[[0 0 1 1 0 0 0]\n",
      " [0 0 0 0 1 0 0]\n",
      " [0 0 1 1 1 0 0]\n",
      " [0 0 1 1 0 0 0]\n",
      " [0 0 1 0 1 0 0]\n",
      " [0 0 0 0 0 0 0]\n",
      " [0 0 0 0 0 0 0]]\n",
      "conv_result\n",
      "[[0 0 0 1 1 0 0]\n",
      " [0 0 0 0 0 1 0]\n",
      " [0 0 1 1 1 0 0]\n",
      " [0 0 1 1 0 0 0]\n",
      " [0 0 1 0 1 0 0]\n",
      " [0 0 0 0 0 0 0]\n",
      " [0 0 0 0 0 0 0]]\n",
      "conv_result\n",
      "[[0 0 0 0 1 1 0]\n",
      " [0 0 0 0 0 0 1]\n",
      " [0 0 1 1 1 0 0]\n",
      " [0 0 1 1 0 0 0]\n",
      " [0 0 1 0 1 0 0]\n",
      " [0 0 0 0 0 0 0]\n",
      " [0 0 0 0 0 0 0]]\n",
      "conv_result\n",
      "[[0 0 0 0 0 0 0]\n",
      " [1 1 0 0 0 0 0]\n",
      " [0 0 2 1 1 0 0]\n",
      " [0 0 1 1 0 0 0]\n",
      " [0 0 1 0 1 0 0]\n",
      " [0 0 0 0 0 0 0]\n",
      " [0 0 0 0 0 0 0]]\n",
      "conv_result\n",
      "[[0 0 0 0 0 0 0]\n",
      " [0 1 1 0 0 0 0]\n",
      " [0 0 1 2 1 0 0]\n",
      " [0 0 1 1 0 0 0]\n",
      " [0 0 1 0 1 0 0]\n",
      " [0 0 0 0 0 0 0]\n",
      " [0 0 0 0 0 0 0]]\n",
      "conv_result\n",
      "[[0 0 0 0 0 0 0]\n",
      " [0 0 1 1 0 0 0]\n",
      " [0 0 1 1 2 0 0]\n",
      " [0 0 1 1 0 0 0]\n",
      " [0 0 1 0 1 0 0]\n",
      " [0 0 0 0 0 0 0]\n",
      " [0 0 0 0 0 0 0]]\n",
      "conv_result\n",
      "[[0 0 0 0 0 0 0]\n",
      " [0 0 0 1 1 0 0]\n",
      " [0 0 1 1 1 1 0]\n",
      " [0 0 1 1 0 0 0]\n",
      " [0 0 1 0 1 0 0]\n",
      " [0 0 0 0 0 0 0]\n",
      " [0 0 0 0 0 0 0]]\n",
      "conv_result\n",
      "[[0 0 0 0 0 0 0]\n",
      " [0 0 0 0 1 1 0]\n",
      " [0 0 1 1 1 0 1]\n",
      " [0 0 1 1 0 0 0]\n",
      " [0 0 1 0 1 0 0]\n",
      " [0 0 0 0 0 0 0]\n",
      " [0 0 0 0 0 0 0]]\n",
      "conv_result\n",
      "[[0 0 0 0 0 0 0]\n",
      " [0 0 0 0 0 0 0]\n",
      " [1 1 1 1 1 0 0]\n",
      " [0 0 2 1 0 0 0]\n",
      " [0 0 1 0 1 0 0]\n",
      " [0 0 0 0 0 0 0]\n",
      " [0 0 0 0 0 0 0]]\n",
      "conv_result\n",
      "[[0 0 0 0 0 0 0]\n",
      " [0 0 0 0 0 0 0]\n",
      " [0 1 2 1 1 0 0]\n",
      " [0 0 1 2 0 0 0]\n",
      " [0 0 1 0 1 0 0]\n",
      " [0 0 0 0 0 0 0]\n",
      " [0 0 0 0 0 0 0]]\n",
      "conv_result\n",
      "[[0 0 0 0 0 0 0]\n",
      " [0 0 0 0 0 0 0]\n",
      " [0 0 2 2 1 0 0]\n",
      " [0 0 1 1 1 0 0]\n",
      " [0 0 1 0 1 0 0]\n",
      " [0 0 0 0 0 0 0]\n",
      " [0 0 0 0 0 0 0]]\n",
      "conv_result\n",
      "[[0 0 0 0 0 0 0]\n",
      " [0 0 0 0 0 0 0]\n",
      " [0 0 1 2 2 0 0]\n",
      " [0 0 1 1 0 1 0]\n",
      " [0 0 1 0 1 0 0]\n",
      " [0 0 0 0 0 0 0]\n",
      " [0 0 0 0 0 0 0]]\n",
      "conv_result\n",
      "[[0 0 0 0 0 0 0]\n",
      " [0 0 0 0 0 0 0]\n",
      " [0 0 1 1 2 1 0]\n",
      " [0 0 1 1 0 0 1]\n",
      " [0 0 1 0 1 0 0]\n",
      " [0 0 0 0 0 0 0]\n",
      " [0 0 0 0 0 0 0]]\n",
      "conv_result\n",
      "[[0 0 0 0 0 0 0]\n",
      " [0 0 0 0 0 0 0]\n",
      " [0 0 1 1 1 0 0]\n",
      " [1 1 1 1 0 0 0]\n",
      " [0 0 2 0 1 0 0]\n",
      " [0 0 0 0 0 0 0]\n",
      " [0 0 0 0 0 0 0]]\n",
      "conv_result\n",
      "[[0 0 0 0 0 0 0]\n",
      " [0 0 0 0 0 0 0]\n",
      " [0 0 1 1 1 0 0]\n",
      " [0 1 2 1 0 0 0]\n",
      " [0 0 1 1 1 0 0]\n",
      " [0 0 0 0 0 0 0]\n",
      " [0 0 0 0 0 0 0]]\n",
      "conv_result\n",
      "[[0 0 0 0 0 0 0]\n",
      " [0 0 0 0 0 0 0]\n",
      " [0 0 1 1 1 0 0]\n",
      " [0 0 2 2 0 0 0]\n",
      " [0 0 1 0 2 0 0]\n",
      " [0 0 0 0 0 0 0]\n",
      " [0 0 0 0 0 0 0]]\n",
      "conv_result\n",
      "[[0 0 0 0 0 0 0]\n",
      " [0 0 0 0 0 0 0]\n",
      " [0 0 1 1 1 0 0]\n",
      " [0 0 1 2 1 0 0]\n",
      " [0 0 1 0 1 1 0]\n",
      " [0 0 0 0 0 0 0]\n",
      " [0 0 0 0 0 0 0]]\n",
      "conv_result\n",
      "[[0 0 0 0 0 0 0]\n",
      " [0 0 0 0 0 0 0]\n",
      " [0 0 1 1 1 0 0]\n",
      " [0 0 1 1 1 1 0]\n",
      " [0 0 1 0 1 0 1]\n",
      " [0 0 0 0 0 0 0]\n",
      " [0 0 0 0 0 0 0]]\n",
      "conv_result\n",
      "[[0 0 0 0 0 0 0]\n",
      " [0 0 0 0 0 0 0]\n",
      " [0 0 1 1 1 0 0]\n",
      " [0 0 1 1 0 0 0]\n",
      " [1 1 1 0 1 0 0]\n",
      " [0 0 1 0 0 0 0]\n",
      " [0 0 0 0 0 0 0]]\n",
      "conv_result\n",
      "[[0 0 0 0 0 0 0]\n",
      " [0 0 0 0 0 0 0]\n",
      " [0 0 1 1 1 0 0]\n",
      " [0 0 1 1 0 0 0]\n",
      " [0 1 2 0 1 0 0]\n",
      " [0 0 0 1 0 0 0]\n",
      " [0 0 0 0 0 0 0]]\n",
      "conv_result\n",
      "[[0 0 0 0 0 0 0]\n",
      " [0 0 0 0 0 0 0]\n",
      " [0 0 1 1 1 0 0]\n",
      " [0 0 1 1 0 0 0]\n",
      " [0 0 2 1 1 0 0]\n",
      " [0 0 0 0 1 0 0]\n",
      " [0 0 0 0 0 0 0]]\n",
      "conv_result\n",
      "[[0 0 0 0 0 0 0]\n",
      " [0 0 0 0 0 0 0]\n",
      " [0 0 1 1 1 0 0]\n",
      " [0 0 1 1 0 0 0]\n",
      " [0 0 1 1 2 0 0]\n",
      " [0 0 0 0 0 1 0]\n",
      " [0 0 0 0 0 0 0]]\n",
      "conv_result\n",
      "[[0 0 0 0 0 0 0]\n",
      " [0 0 0 0 0 0 0]\n",
      " [0 0 1 1 1 0 0]\n",
      " [0 0 1 1 0 0 0]\n",
      " [0 0 1 0 2 1 0]\n",
      " [0 0 0 0 0 0 1]\n",
      " [0 0 0 0 0 0 0]]\n",
      "[[0 1 0]\n",
      " [1 0 0]\n",
      " [1 0 0]]\n",
      "conv_result\n",
      "[[0 1 0 0 0 0 0]\n",
      " [1 0 0 0 0 0 0]\n",
      " [1 0 1 1 1 0 0]\n",
      " [0 0 1 1 0 0 0]\n",
      " [0 0 1 0 1 0 0]\n",
      " [0 0 0 0 0 0 0]\n",
      " [0 0 0 0 0 0 0]]\n",
      "conv_result\n",
      "[[0 0 1 0 0 0 0]\n",
      " [0 1 0 0 0 0 0]\n",
      " [0 1 1 1 1 0 0]\n",
      " [0 0 1 1 0 0 0]\n",
      " [0 0 1 0 1 0 0]\n",
      " [0 0 0 0 0 0 0]\n",
      " [0 0 0 0 0 0 0]]\n",
      "conv_result\n",
      "[[0 0 0 1 0 0 0]\n",
      " [0 0 1 0 0 0 0]\n",
      " [0 0 2 1 1 0 0]\n",
      " [0 0 1 1 0 0 0]\n",
      " [0 0 1 0 1 0 0]\n",
      " [0 0 0 0 0 0 0]\n",
      " [0 0 0 0 0 0 0]]\n",
      "conv_result\n",
      "[[0 0 0 0 1 0 0]\n",
      " [0 0 0 1 0 0 0]\n",
      " [0 0 1 2 1 0 0]\n",
      " [0 0 1 1 0 0 0]\n",
      " [0 0 1 0 1 0 0]\n",
      " [0 0 0 0 0 0 0]\n",
      " [0 0 0 0 0 0 0]]\n",
      "conv_result\n",
      "[[0 0 0 0 0 1 0]\n",
      " [0 0 0 0 1 0 0]\n",
      " [0 0 1 1 2 0 0]\n",
      " [0 0 1 1 0 0 0]\n",
      " [0 0 1 0 1 0 0]\n",
      " [0 0 0 0 0 0 0]\n",
      " [0 0 0 0 0 0 0]]\n",
      "conv_result\n",
      "[[0 0 0 0 0 0 0]\n",
      " [0 1 0 0 0 0 0]\n",
      " [1 0 1 1 1 0 0]\n",
      " [1 0 1 1 0 0 0]\n",
      " [0 0 1 0 1 0 0]\n",
      " [0 0 0 0 0 0 0]\n",
      " [0 0 0 0 0 0 0]]\n",
      "conv_result\n",
      "[[0 0 0 0 0 0 0]\n",
      " [0 0 1 0 0 0 0]\n",
      " [0 1 1 1 1 0 0]\n",
      " [0 1 1 1 0 0 0]\n",
      " [0 0 1 0 1 0 0]\n",
      " [0 0 0 0 0 0 0]\n",
      " [0 0 0 0 0 0 0]]\n",
      "conv_result\n",
      "[[0 0 0 0 0 0 0]\n",
      " [0 0 0 1 0 0 0]\n",
      " [0 0 2 1 1 0 0]\n",
      " [0 0 2 1 0 0 0]\n",
      " [0 0 1 0 1 0 0]\n",
      " [0 0 0 0 0 0 0]\n",
      " [0 0 0 0 0 0 0]]\n",
      "conv_result\n",
      "[[0 0 0 0 0 0 0]\n",
      " [0 0 0 0 1 0 0]\n",
      " [0 0 1 2 1 0 0]\n",
      " [0 0 1 2 0 0 0]\n",
      " [0 0 1 0 1 0 0]\n",
      " [0 0 0 0 0 0 0]\n",
      " [0 0 0 0 0 0 0]]\n",
      "conv_result\n",
      "[[0 0 0 0 0 0 0]\n",
      " [0 0 0 0 0 1 0]\n",
      " [0 0 1 1 2 0 0]\n",
      " [0 0 1 1 1 0 0]\n",
      " [0 0 1 0 1 0 0]\n",
      " [0 0 0 0 0 0 0]\n",
      " [0 0 0 0 0 0 0]]\n",
      "conv_result\n",
      "[[0 0 0 0 0 0 0]\n",
      " [0 0 0 0 0 0 0]\n",
      " [0 1 1 1 1 0 0]\n",
      " [1 0 1 1 0 0 0]\n",
      " [1 0 1 0 1 0 0]\n",
      " [0 0 0 0 0 0 0]\n",
      " [0 0 0 0 0 0 0]]\n",
      "conv_result\n",
      "[[0 0 0 0 0 0 0]\n",
      " [0 0 0 0 0 0 0]\n",
      " [0 0 2 1 1 0 0]\n",
      " [0 1 1 1 0 0 0]\n",
      " [0 1 1 0 1 0 0]\n",
      " [0 0 0 0 0 0 0]\n",
      " [0 0 0 0 0 0 0]]\n",
      "conv_result\n",
      "[[0 0 0 0 0 0 0]\n",
      " [0 0 0 0 0 0 0]\n",
      " [0 0 1 2 1 0 0]\n",
      " [0 0 2 1 0 0 0]\n",
      " [0 0 2 0 1 0 0]\n",
      " [0 0 0 0 0 0 0]\n",
      " [0 0 0 0 0 0 0]]\n",
      "conv_result\n",
      "[[0 0 0 0 0 0 0]\n",
      " [0 0 0 0 0 0 0]\n",
      " [0 0 1 1 2 0 0]\n",
      " [0 0 1 2 0 0 0]\n",
      " [0 0 1 1 1 0 0]\n",
      " [0 0 0 0 0 0 0]\n",
      " [0 0 0 0 0 0 0]]\n",
      "conv_result\n",
      "[[0 0 0 0 0 0 0]\n",
      " [0 0 0 0 0 0 0]\n",
      " [0 0 1 1 1 1 0]\n",
      " [0 0 1 1 1 0 0]\n",
      " [0 0 1 0 2 0 0]\n",
      " [0 0 0 0 0 0 0]\n",
      " [0 0 0 0 0 0 0]]\n",
      "conv_result\n",
      "[[0 0 0 0 0 0 0]\n",
      " [0 0 0 0 0 0 0]\n",
      " [0 0 1 1 1 0 0]\n",
      " [0 1 1 1 0 0 0]\n",
      " [1 0 1 0 1 0 0]\n",
      " [1 0 0 0 0 0 0]\n",
      " [0 0 0 0 0 0 0]]\n",
      "conv_result\n",
      "[[0 0 0 0 0 0 0]\n",
      " [0 0 0 0 0 0 0]\n",
      " [0 0 1 1 1 0 0]\n",
      " [0 0 2 1 0 0 0]\n",
      " [0 1 1 0 1 0 0]\n",
      " [0 1 0 0 0 0 0]\n",
      " [0 0 0 0 0 0 0]]\n",
      "conv_result\n",
      "[[0 0 0 0 0 0 0]\n",
      " [0 0 0 0 0 0 0]\n",
      " [0 0 1 1 1 0 0]\n",
      " [0 0 1 2 0 0 0]\n",
      " [0 0 2 0 1 0 0]\n",
      " [0 0 1 0 0 0 0]\n",
      " [0 0 0 0 0 0 0]]\n",
      "conv_result\n",
      "[[0 0 0 0 0 0 0]\n",
      " [0 0 0 0 0 0 0]\n",
      " [0 0 1 1 1 0 0]\n",
      " [0 0 1 1 1 0 0]\n",
      " [0 0 1 1 1 0 0]\n",
      " [0 0 0 1 0 0 0]\n",
      " [0 0 0 0 0 0 0]]\n",
      "True\n"
     ]
    }
   ],
   "source": [
    "import numpy as np\n",
    "\n",
    "key = [[0, 0, 0],\n",
    "       [1, 0, 0],\n",
    "       [0, 1, 1]]\n",
    "\n",
    "lock = [[1, 1, 1],\n",
    "        [1, 1, 0],\n",
    "        [1, 0, 1]]\n",
    "\n",
    "open = [[1, 1, 1],\n",
    "        [1, 1, 1],\n",
    "        [1, 1, 1]]\n",
    "\n",
    "M, N = 3, 3\n",
    "padding = M-1\n",
    "padded_lock = np.zeros((N+2*M-2, N+2*M-2), dtype=int)\n",
    "padded_lock[M-1:N+M-1, M-1:N+M-1] = lock\n",
    "print(padded_lock)\n",
    "\n",
    "# 시계 반대 방향으로 90도 회전\n",
    "def rotate(key):\n",
    "    new_key = np.zeros((M, M), dtype=int)\n",
    "    for i in range(M):\n",
    "        for j in range(M):\n",
    "            new_key[-j+(M-1)][i] = key[i][j]\n",
    "    return new_key\n",
    "\n",
    "# 4방향 모두에 대하여 구함\n",
    "def solution(key, map):\n",
    "    for _ in range(4):\n",
    "        key = rotate(key)\n",
    "        # convolution\n",
    "        for i in range(M+N-1):\n",
    "            for j in range(N+M-1):\n",
    "                conv_result = padded_lock.copy()\n",
    "                for k in range(M):\n",
    "                    for l in range(M):\n",
    "                        conv_result[i+k][j+l] = padded_lock[i+k][j+l] + key[k][l]\n",
    "                print('conv_result')\n",
    "                print(conv_result)\n",
    "\n",
    "                # 만약 키가 딱 맞아서 돌아간다면 print false\n",
    "                # print((conv_result[M-1:N+M-1, M-1:N+M-1] == open))\n",
    "                if (conv_result[M-1:N+M-1, M-1:N+M-1] == open).all():\n",
    "                    return True\n",
    "    return False\n",
    "\n",
    "print(solution(key, map))"
   ],
   "metadata": {
    "collapsed": false,
    "pycharm": {
     "name": "#%%\n"
    }
   }
  },
  {
   "cell_type": "code",
   "execution_count": null,
   "outputs": [],
   "source": [
    "\n",
    "\n",
    "\n",
    "\n",
    "\n",
    "\n",
    "\n",
    "\n",
    "\n",
    "\n",
    "\n",
    "\n",
    "\n",
    "\n",
    "\n",
    "\n",
    "\n",
    "\n",
    "\n",
    "\n",
    "\n",
    "\n",
    "\n",
    "\n"
   ],
   "metadata": {
    "collapsed": false,
    "pycharm": {
     "name": "#%%\n"
    }
   }
  }
 ],
 "metadata": {
  "kernelspec": {
   "display_name": "Python 3",
   "language": "python",
   "name": "python3"
  },
  "language_info": {
   "codemirror_mode": {
    "name": "ipython",
    "version": 2
   },
   "file_extension": ".py",
   "mimetype": "text/x-python",
   "name": "python",
   "nbconvert_exporter": "python",
   "pygments_lexer": "ipython2",
   "version": "2.7.6"
  }
 },
 "nbformat": 4,
 "nbformat_minor": 0
}