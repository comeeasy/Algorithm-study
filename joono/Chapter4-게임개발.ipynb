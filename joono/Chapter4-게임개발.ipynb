{
 "cells": [
  {
   "cell_type": "code",
   "execution_count": 3,
   "metadata": {
    "collapsed": true
   },
   "outputs": [
    {
     "name": "stdout",
     "output_type": "stream",
     "text": [
      "[[1, 1, 1, 1], [1, 2, 0, 1], [1, 1, 0, 1], [1, 1, 1, 1]]\n",
      "[[1, 1, 1, 1], [1, 2, 2, 1], [1, 1, 0, 1], [1, 1, 1, 1]]\n",
      "[[1, 1, 1, 1], [1, 2, 2, 1], [1, 1, 2, 1], [1, 1, 1, 1]]\n",
      "3\n"
     ]
    }
   ],
   "source": [
    "directions = [(0, -1), (1, 0), (0, 1), (-1, 0)]\n",
    "\n",
    "N, M = map(int, input().split())\n",
    "r, c, cur_dir = map(int, input().split())\n",
    "cur_pos = [r, c]\n",
    "grid = []\n",
    "for i in range(N):\n",
    "    grid.append(list(map(int, input().split())))\n",
    "\n",
    "grid[r][c] = 2\n",
    "ans = 1\n",
    "while True:\n",
    "    # print(grid)\n",
    "\n",
    "    if grid[r][c] == 1:\n",
    "        break\n",
    "\n",
    "    cnt = 0\n",
    "\n",
    "    for i in range(1, 4):\n",
    "        cur_dir = (4 + (cur_dir - i)) % 4\n",
    "\n",
    "        next_r = directions[cur_dir][0] + r\n",
    "        next_c = directions[cur_dir][1] + c\n",
    "        cnt += 1\n",
    "\n",
    "        if grid[next_r][next_c] == 0:\n",
    "            r = next_r\n",
    "            c = next_c\n",
    "            grid[r][c] = 2\n",
    "            ans += 1\n",
    "            break\n",
    "    else:\n",
    "        r = (4 + (cur_dir - 2)) % 4 + r\n",
    "        c = (4 + (cur_dir - 2)) % 4 + c\n",
    "\n",
    "        if grid[r][c] == 1:\n",
    "            break\n",
    "\n",
    "print(ans)\n",
    "\n"
   ]
  }
 ],
 "metadata": {
  "kernelspec": {
   "display_name": "Python 3",
   "language": "python",
   "name": "python3"
  },
  "language_info": {
   "codemirror_mode": {
    "name": "ipython",
    "version": 2
   },
   "file_extension": ".py",
   "mimetype": "text/x-python",
   "name": "python",
   "nbconvert_exporter": "python",
   "pygments_lexer": "ipython2",
   "version": "2.7.6"
  }
 },
 "nbformat": 4,
 "nbformat_minor": 0
}