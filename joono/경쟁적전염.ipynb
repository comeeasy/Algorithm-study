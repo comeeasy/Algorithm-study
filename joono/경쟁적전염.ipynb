{
 "cells": [
  {
   "cell_type": "markdown",
   "metadata": {
    "collapsed": true,
    "pycharm": {
     "name": "#%% md\n"
    }
   },
   "source": [
    "# 경쟁적 전염\n",
    "\n",
    "바이러스들은 번호가 낮은 순으로 상하좌우 네 방향으로 한칸씩 증식한다.\n",
    "이때 S뒤에 x, y의 좌표에는 어떤 바이러스가 있는지 출력\n",
    "N : NxN 격자의 크기\n",
    "K : 바이러스의 갯수"
   ]
  },
  {
   "cell_type": "markdown",
   "source": [
    "class Virus:\n",
    "    def __init__(self, r, c, k):\n",
    "        self.r = r\n",
    "        self.c = c\n",
    "        self.k = k\n",
    "        self.\n",
    "\n",
    "    def process(self):\n",
    "        global grid\n",
    "\n",
    "N, K = map(int, input().split())\n",
    "grid = []\n",
    "for _ in range(N): grid.append(list(map(int, input().split())))\n",
    "S, X, Y = map(int, input().split())\n",
    "\n",
    "viruses = [0] * (N+1)\n",
    "# find virus position\n",
    "for r in range(N):\n",
    "    for c in range(N):\n",
    "        if grid[r][c] != 0:\n",
    "            viruses[grid[r][c]] = (r, c)\n",
    "\n",
    "for _ in range(S):\n",
    "    for virus in viruses:"
   ],
   "metadata": {
    "collapsed": false,
    "pycharm": {
     "name": "#%% md\n"
    }
   }
  },
  {
   "cell_type": "code",
   "execution_count": 18,
   "outputs": [
    {
     "name": "stdout",
     "output_type": "stream",
     "text": [
      "0\n"
     ]
    }
   ],
   "source": [
    "def validate_and_set(r, c, virus, time) -> None:\n",
    "    global grid\n",
    "    global N\n",
    "\n",
    "    if 0 <= r < N and 0 <= c < N:\n",
    "        if grid[r][c][0] == 0:\n",
    "            grid[r][c] = (virus, time+1)\n",
    "\n",
    "N, K = map(int, input().split())\n",
    "grid = []\n",
    "for _ in range(N): grid.append(list(map(lambda x: (int(x), 0), input().split())))\n",
    "S, X, Y = map(int, input().split())\n",
    "\n",
    "for time in range(S):\n",
    "    for virus in range(1, K+1):\n",
    "        for r in range(N):\n",
    "            for c in range(N):\n",
    "                if grid[r][c] == (virus, time):\n",
    "                    validate_and_set(r-1, c, virus, time)\n",
    "                    validate_and_set(r, c-1, virus, time)\n",
    "                    validate_and_set(r+1, c, virus, time)\n",
    "                    validate_and_set(r, c+1, virus, time)\n",
    "\n",
    "print(grid[X-1][Y-1][0])"
   ],
   "metadata": {
    "collapsed": false,
    "pycharm": {
     "name": "#%%\n"
    }
   }
  },
  {
   "cell_type": "code",
   "execution_count": null,
   "outputs": [],
   "source": [
    "from collections import deque\n",
    "\n",
    "N, K = map(int, input().split())\n",
    "grid = []\n",
    "data = []\n",
    "for r in range(N):\n",
    "    grid.append(list(map(int, input().split())))\n",
    "    for c in range(N):\n",
    "        if grid[r][c] != 0:\n",
    "            # 현재 시간\n",
    "            data.append(grid[r][c], 0, r, c)\n",
    "\n",
    "data.sort()\n",
    "q = deque(data)\n",
    "S, X, Y = map(int, input().split())\n",
    "\n",
    "dx = [-1, 0, 1, 0]\n",
    "dy = [0, 1, 0, -1]\n",
    "\n",
    "# BFS 진행\n",
    "while q:\n",
    "    virus, s, x, y = q.popleft()\n",
    "    if s == S:\n",
    "        break\n",
    "    for i in range(4):\n",
    "        nx = x + dx[i]\n",
    "        ny = y + dy[i]\n",
    "\n",
    "        if 0 <= nx < N and 0 <= ny < N:\n",
    "            if grid[nx][ny] == 0:\n",
    "                grid[nx][ny] = virus\n",
    "                q.append((virus, s+1, nx, ny))"
   ],
   "metadata": {
    "collapsed": false,
    "pycharm": {
     "name": "#%%\n"
    }
   }
  }
 ],
 "metadata": {
  "kernelspec": {
   "display_name": "Python 3",
   "language": "python",
   "name": "python3"
  },
  "language_info": {
   "codemirror_mode": {
    "name": "ipython",
    "version": 2
   },
   "file_extension": ".py",
   "mimetype": "text/x-python",
   "name": "python",
   "nbconvert_exporter": "python",
   "pygments_lexer": "ipython2",
   "version": "2.7.6"
  }
 },
 "nbformat": 4,
 "nbformat_minor": 0
}