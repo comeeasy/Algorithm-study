{
 "cells": [
  {
   "cell_type": "markdown",
   "metadata": {
    "collapsed": true,
    "pycharm": {
     "name": "#%% md\n"
    }
   },
   "source": [
    "# 19. 연산자 끼워 넣기\n",
    "N개의 수로 이루어진 수열 A1, A2, ... , AN이 주어진다. 또 수와 수 사이에 끼워 넣을 수 있는<br>\n",
    "N-1개의 연산자가 주어집니다. 연산자는 +, -, *ㅡ / 으로만 이루어져있다.<br>\n",
    "우리는 수와 수 사이에 연산자를 하나식 넣어서, 수식을 하나 만들 수 있는데 이때 주어진 수의 순서를 바꾸면 안됨<br>\n",
    "예를 들어, 6개의 수로 이루어진 수열이 1, 2, 3, 4, 5, 6이고 주어진 연산자가 + 2개, - 1개, * 1개, / 1개인 경우<br>\n",
    "총 60가지의 식을 만들 수 있다."
   ]
  },
  {
   "cell_type": "code",
   "execution_count": 30,
   "outputs": [
    {
     "name": "stdout",
     "output_type": "stream",
     "text": [
      "54\n",
      "-24\n"
     ]
    }
   ],
   "source": [
    "from itertools import permutations\n",
    "\n",
    "# N: # of numbers\n",
    "N = int(input())\n",
    "numbers = list(map(int, input().split()))\n",
    "# opearator: # of +, -, *, /\n",
    "operators = list(map(int, input().split()))\n",
    "\n",
    "# operators\n",
    "def add(x, y): return x+y\n",
    "def sub(x, y): return x-y\n",
    "def mul(x, y): return x*y\n",
    "def div(x, y):\n",
    "    if x < 0:\n",
    "        x = abs(x)\n",
    "        return -(x // y)\n",
    "    else:\n",
    "        return x // y\n",
    "op = [add, sub, mul, div]\n",
    "\n",
    "com_oprt = [i for i, number in enumerate(operators) for _ in range(number)]\n",
    "com_oprts = list(permutations(com_oprt, N-1))\n",
    "\n",
    "results = []\n",
    "for comb in com_oprts:\n",
    "    result = numbers[0]\n",
    "    for i in range(N-1):\n",
    "        result = op[comb[i]](result, numbers[i+1])\n",
    "    results.append(result)\n",
    "\n",
    "print(max(results))\n",
    "print(min(results))"
   ],
   "metadata": {
    "collapsed": false,
    "pycharm": {
     "name": "#%%\n"
    }
   }
  },
  {
   "cell_type": "code",
   "execution_count": null,
   "outputs": [],
   "source": [],
   "metadata": {
    "collapsed": false,
    "pycharm": {
     "name": "#%%\n"
    }
   }
  }
 ],
 "metadata": {
  "kernelspec": {
   "name": "pycharm-48fa06dc",
   "language": "python",
   "display_name": "PyCharm (Python_Clean_Code)"
  },
  "language_info": {
   "codemirror_mode": {
    "name": "ipython",
    "version": 2
   },
   "file_extension": ".py",
   "mimetype": "text/x-python",
   "name": "python",
   "nbconvert_exporter": "python",
   "pygments_lexer": "ipython2",
   "version": "2.7.6"
  }
 },
 "nbformat": 4,
 "nbformat_minor": 0
}