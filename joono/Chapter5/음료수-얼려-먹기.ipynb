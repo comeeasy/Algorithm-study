{
 "cells": [
  {
   "cell_type": "markdown",
   "metadata": {
    "collapsed": true,
    "pycharm": {
     "name": "#%% md\n"
    }
   },
   "source": [
    "# Part05 실전 문제: 음료수 얼려 먹기\n",
    "\n",
    "NxM 크기의 얼음 틀이 있다. 구멍이 뚫려 있는 부분은 0,<br>\n",
    "칸막이가 존재하는 부분은 1로 표시된다. 구멍이 뚫려 있는 부분끼리<br>\n",
    "상하좌우로 붙어 있는 경우 서로 연결되어 있는 것으로 간주한다.<br>\n",
    "이때 얼음 틀의 모양이 주어졌을 때 생성되는 총 아이스크림의 개수를 구하는<br>\n",
    "프로그램을 작성하라.<br>\n",
    "\n",
    "### 문제 이해하기\n",
    "\n",
    "해당 문제는 DFS 접근법으로 풀 수 있다.<br>\n",
    "먼저 주어진 모든 얼음판에 대해서 여기에 아이스크림을<br>\n",
    "만들 수 있는지 없는지 확인하면된다.<br>\n",
    "\n",
    "먼저 (0,0) 부터 음료수를 부으면 아이스크림을 몇 개 만들 수 있는지<br>\n",
    "확인 한다. 여기서 음료수를 붓는 행위가 DFS가 되는거다.<br>\n",
    "DFS를 진행하면서 visit하는 node는 이제는 다른 칸막이처럼 1이 된다.<br>\n",
    "\n",
    "이렇게 음료수를 다 채우면 return 을 True로 주어 아이스크림 하나 완성<br>\n",
    "이라고 알려준다. 그리고 다음 비어있는 얼음칸을 찾아 for문을 돈다.<br>\n",
    "\n",
    "### 문제 접근 방법\n",
    "DFS\n",
    "\n",
    "### 구현 배경 지식\n",
    "DFS\n",
    "\n",
    "### 접근 방법을 적용한 코드"
   ]
  },
  {
   "cell_type": "code",
   "execution_count": 2,
   "outputs": [
    {
     "name": "stdout",
     "output_type": "stream",
     "text": [
      "3\n"
     ]
    }
   ],
   "source": [
    "N, M = map(int, input().split())\n",
    "graph = []\n",
    "for _ in range(N):\n",
    "    graph.append(list(map(int, input().split())))\n",
    "\n",
    "def dfs(x, y):\n",
    "        if x < 0 or x >= N or y < 0 or y >= M:\n",
    "            return False\n",
    "\n",
    "        if graph[x][y] == 1:\n",
    "            return False\n",
    "        else:\n",
    "            graph[x][y] = 1\n",
    "            dfs(x-1, y); dfs(x+1, y); dfs(x, y-1); dfs(x, y+1);\n",
    "            return True\n",
    "\n",
    "cnt = 0\n",
    "for x in range(N):\n",
    "    for y in range(M):\n",
    "        if dfs(x, y) == True:\n",
    "            cnt += 1\n",
    "\n",
    "print(cnt)"
   ],
   "metadata": {
    "collapsed": false,
    "pycharm": {
     "name": "#%%\n"
    }
   }
  }
 ],
 "metadata": {
  "kernelspec": {
   "display_name": "Python 3",
   "language": "python",
   "name": "python3"
  },
  "language_info": {
   "codemirror_mode": {
    "name": "ipython",
    "version": 2
   },
   "file_extension": ".py",
   "mimetype": "text/x-python",
   "name": "python",
   "nbconvert_exporter": "python",
   "pygments_lexer": "ipython2",
   "version": "2.7.6"
  }
 },
 "nbformat": 4,
 "nbformat_minor": 0
}