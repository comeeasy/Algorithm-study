{
 "cells": [
  {
   "cell_type": "markdown",
   "metadata": {
    "collapsed": true,
    "pycharm": {
     "name": "#%% md\n"
    }
   },
   "source": [
    "# Part05 미로 탈출\n",
    "\n",
    "\n",
    "### 문제 이해하기\n",
    "\n",
    "동빈이는 NxM 크기의 직사각형 형태의 미로에 갇혀 있다.<br>\n",
    "미로에는 여러 마리의 괴물이 있어 이를 피해 탈출해야한다.<br>\n",
    "동빈이의 위치는 (1, 1)이고 미로의 출구는 (N,M)이다.<br>\n",
    "한 번에 한 칸씩 이동할 수 있다.<br>\n",
    "미로는 반드시 탈출할 수 있다.<br>\n",
    "이때 동빈이가 탈출하기 위해 움직여야 하는 최고 칸의 갯수를 구하라.<br>\n",
    "칸을 셀 때는 첫 번째 칸과 마지막 칸을 모두 포함하여 계산한다.<br>\n",
    "\n",
    "### 문제 접근 방법\n",
    "\n",
    "BFS로 길을 탐색한다면, 트리의 깊이가 해당 문제의 답이 될 것이다.<br>\n",
    "BFS의 깊이를 구하는 방법을 찾아보자<br>\n",
    "\n",
    "처음 시작할 때의 타일의 값은 1이다. 그리고 한 걸음 걸음 마다<br>\n",
    "해당 타일의 값을 1씩 더해주면 몇 자국에 해당위치를 갈 수 있는지<br>\n",
    "파악할 수 있다. 그리고 마지막 위치인 (N, M)의 타일 값을 return<br>\n",
    "해주면 된다.<br>\n",
    "\n",
    "### 접근 방법을 적용한 코드"
   ]
  },
  {
   "cell_type": "code",
   "execution_count": 1,
   "outputs": [
    {
     "output_type": "error",
     "ename": "ValueError",
     "evalue": "invalid literal for int() with base 10: 'E'",
     "traceback": [
      "\u001b[0;31m---------------------------------------------------------------------------\u001b[0m",
      "\u001b[0;31mValueError\u001b[0m                                Traceback (most recent call last)",
      "\u001b[0;32m<ipython-input-1-4ebac181cf0b>\u001b[0m in \u001b[0;36m<module>\u001b[0;34m\u001b[0m\n\u001b[1;32m      7\u001b[0m \u001b[0mgraph\u001b[0m \u001b[0;34m=\u001b[0m \u001b[0;34m[\u001b[0m\u001b[0;34m]\u001b[0m\u001b[0;34m\u001b[0m\u001b[0;34m\u001b[0m\u001b[0m\n\u001b[1;32m      8\u001b[0m \u001b[0;32mfor\u001b[0m \u001b[0m_\u001b[0m \u001b[0;32min\u001b[0m \u001b[0mrange\u001b[0m\u001b[0;34m(\u001b[0m\u001b[0mN\u001b[0m\u001b[0;34m)\u001b[0m\u001b[0;34m:\u001b[0m\u001b[0;34m\u001b[0m\u001b[0;34m\u001b[0m\u001b[0m\n\u001b[0;32m----> 9\u001b[0;31m     \u001b[0mgraph\u001b[0m\u001b[0;34m.\u001b[0m\u001b[0mappend\u001b[0m\u001b[0;34m(\u001b[0m\u001b[0mlist\u001b[0m\u001b[0;34m(\u001b[0m\u001b[0mmap\u001b[0m\u001b[0;34m(\u001b[0m\u001b[0mint\u001b[0m\u001b[0;34m,\u001b[0m \u001b[0minput\u001b[0m\u001b[0;34m(\u001b[0m\u001b[0;34m)\u001b[0m\u001b[0;34m)\u001b[0m\u001b[0;34m)\u001b[0m\u001b[0;34m)\u001b[0m\u001b[0;34m\u001b[0m\u001b[0;34m\u001b[0m\u001b[0m\n\u001b[0m\u001b[1;32m     10\u001b[0m \u001b[0;34m\u001b[0m\u001b[0m\n\u001b[1;32m     11\u001b[0m \u001b[0;32mdef\u001b[0m \u001b[0mbfs\u001b[0m\u001b[0;34m(\u001b[0m\u001b[0mgraph\u001b[0m\u001b[0;34m,\u001b[0m \u001b[0mx\u001b[0m\u001b[0;34m,\u001b[0m \u001b[0my\u001b[0m\u001b[0;34m)\u001b[0m\u001b[0;34m:\u001b[0m\u001b[0;34m\u001b[0m\u001b[0;34m\u001b[0m\u001b[0m\n",
      "\u001b[0;31mValueError\u001b[0m: invalid literal for int() with base 10: 'E'"
     ]
    }
   ],
   "source": [
    "from collections import deque\n",
    "\n",
    "dx = [1, 0, -1, 0]\n",
    "dy = [0, 1, 0, -1]\n",
    "\n",
    "N, M = map(int, input().split())\n",
    "graph = []\n",
    "for _ in range(N):\n",
    "    graph.append(list(map(int, input())))\n",
    "\n",
    "def bfs(graph, x, y):\n",
    "    q = deque()\n",
    "\n",
    "    q.append((x, y))\n",
    "    while q:\n",
    "        pos = q.popleft()\n",
    "\n",
    "        for i in range(4):\n",
    "            next_pos = (pos[0] + dx[i], pos[1] + dy[i])\n",
    "\n",
    "            if next_pos[0] < 0 or next_pos[0] >= N or\\\n",
    "                next_pos[1] < 0 or next_pos[1] >= M:\n",
    "                continue\n",
    "\n",
    "            if graph[next_pos[0]][next_pos[1]] != 0 \\\n",
    "                    and graph[next_pos[0]][next_pos[1]] == 1:\n",
    "                graph[next_pos[0]][next_pos[1]] += graph[pos[0]][pos[1]]\n",
    "                q.append(next_pos)\n",
    "\n",
    "            if next_pos[0] == N-1 and next_pos[1] == M-1:\n",
    "                return graph[N-1][M-1]\n",
    "\n",
    "\n",
    "print(bfs(graph, 0, 0))"
   ],
   "metadata": {
    "collapsed": false,
    "pycharm": {
     "name": "#%%\n"
    }
   }
  },
  {
   "cell_type": "markdown",
   "source": [
    "### DFS approach\n",
    "\n",
    "- deque를 stack으로만 바꾸면 된다!"
   ],
   "metadata": {
    "collapsed": false,
    "pycharm": {
     "name": "#%% md\n"
    }
   }
  },
  {
   "cell_type": "code",
   "execution_count": 27,
   "outputs": [
    {
     "name": "stdout",
     "output_type": "stream",
     "text": [
      "step (0, 0)\n",
      "[1, 0, 1, 0, 1, 0]\n",
      "[1, 1, 1, 1, 1, 1]\n",
      "[0, 0, 0, 0, 0, 1]\n",
      "[1, 1, 1, 1, 1, 1]\n",
      "[1, 1, 1, 1, 1, 1]\n",
      "\n",
      "step (1, 0)\n",
      "[1, 0, 1, 0, 1, 0]\n",
      "[2, 1, 1, 1, 1, 1]\n",
      "[0, 0, 0, 0, 0, 1]\n",
      "[1, 1, 1, 1, 1, 1]\n",
      "[1, 1, 1, 1, 1, 1]\n",
      "\n",
      "step (0, 0)\n",
      "[3, 0, 1, 0, 1, 0]\n",
      "[2, 3, 1, 1, 1, 1]\n",
      "[0, 0, 0, 0, 0, 1]\n",
      "[1, 1, 1, 1, 1, 1]\n",
      "[1, 1, 1, 1, 1, 1]\n",
      "\n",
      "step (1, 1)\n",
      "[3, 0, 1, 0, 1, 0]\n",
      "[2, 3, 1, 1, 1, 1]\n",
      "[0, 0, 0, 0, 0, 1]\n",
      "[1, 1, 1, 1, 1, 1]\n",
      "[1, 1, 1, 1, 1, 1]\n",
      "\n",
      "step (1, 2)\n",
      "[3, 0, 1, 0, 1, 0]\n",
      "[2, 3, 4, 1, 1, 1]\n",
      "[0, 0, 0, 0, 0, 1]\n",
      "[1, 1, 1, 1, 1, 1]\n",
      "[1, 1, 1, 1, 1, 1]\n",
      "\n",
      "step (0, 2)\n",
      "[3, 0, 5, 0, 1, 0]\n",
      "[2, 3, 4, 5, 1, 1]\n",
      "[0, 0, 0, 0, 0, 1]\n",
      "[1, 1, 1, 1, 1, 1]\n",
      "[1, 1, 1, 1, 1, 1]\n",
      "\n",
      "step (1, 3)\n",
      "[3, 0, 5, 0, 1, 0]\n",
      "[2, 3, 4, 5, 1, 1]\n",
      "[0, 0, 0, 0, 0, 1]\n",
      "[1, 1, 1, 1, 1, 1]\n",
      "[1, 1, 1, 1, 1, 1]\n",
      "\n",
      "step (1, 4)\n",
      "[3, 0, 5, 0, 1, 0]\n",
      "[2, 3, 4, 5, 6, 1]\n",
      "[0, 0, 0, 0, 0, 1]\n",
      "[1, 1, 1, 1, 1, 1]\n",
      "[1, 1, 1, 1, 1, 1]\n",
      "\n",
      "step (0, 4)\n",
      "[3, 0, 5, 0, 7, 0]\n",
      "[2, 3, 4, 5, 6, 7]\n",
      "[0, 0, 0, 0, 0, 1]\n",
      "[1, 1, 1, 1, 1, 1]\n",
      "[1, 1, 1, 1, 1, 1]\n",
      "\n",
      "step (1, 5)\n",
      "[3, 0, 5, 0, 7, 0]\n",
      "[2, 3, 4, 5, 6, 7]\n",
      "[0, 0, 0, 0, 0, 1]\n",
      "[1, 1, 1, 1, 1, 1]\n",
      "[1, 1, 1, 1, 1, 1]\n",
      "\n",
      "step (2, 5)\n",
      "[3, 0, 5, 0, 7, 0]\n",
      "[2, 3, 4, 5, 6, 7]\n",
      "[0, 0, 0, 0, 0, 8]\n",
      "[1, 1, 1, 1, 1, 1]\n",
      "[1, 1, 1, 1, 1, 1]\n",
      "\n",
      "step (3, 5)\n",
      "[3, 0, 5, 0, 7, 0]\n",
      "[2, 3, 4, 5, 6, 7]\n",
      "[0, 0, 0, 0, 0, 8]\n",
      "[1, 1, 1, 1, 1, 9]\n",
      "[1, 1, 1, 1, 1, 1]\n",
      "\n",
      "10\n"
     ]
    }
   ],
   "source": [
    "dx = [1, 0, -1, 0]\n",
    "dy = [0, 1, 0, -1]\n",
    "\n",
    "def dfs(graph, x, y, step):\n",
    "    stack = []\n",
    "\n",
    "    stack.append((x, y))\n",
    "    while stack:\n",
    "        pos = stack.pop()\n",
    "\n",
    "        for i in range(4):\n",
    "            next_pos = (pos[0] + dx[i], pos[1] + dy[i])\n",
    "\n",
    "            if next_pos[0] < 0 or next_pos[0] >= N or next_pos[1] < 0 or next_pos[1] >= M:\n",
    "                continue\n",
    "\n",
    "            if graph[next_pos[0]][next_pos[1]] == 1:\n",
    "                graph[next_pos[0]][next_pos[1]] += graph[pos[0]][pos[1]]\n",
    "                stack.append(next_pos)\n",
    "\n",
    "            if next_pos[0] == N-1 and next_pos[1] == M-1:\n",
    "                return graph[N-1][M-1]\n",
    "\n",
    "N, M = map(int, input().split())\n",
    "graph = []\n",
    "for _ in range(N):\n",
    "    graph.append(list(map(int, input())))\n",
    "print(dfs(graph, 0, 0, 1))\n",
    "\n"
   ],
   "metadata": {
    "collapsed": false,
    "pycharm": {
     "name": "#%%\n"
    }
   }
  }
 ],
 "metadata": {
  "kernelspec": {
   "name": "python388jvsc74a57bd0dca0ade3e726a953b501b15e8e990130d2b7799f14cfd9f4271676035ebe5511",
   "display_name": "Python 3.8.8 64-bit ('anaconda3': virtualenv)"
  },
  "language_info": {
   "codemirror_mode": {
    "name": "ipython",
    "version": 2
   },
   "file_extension": ".py",
   "mimetype": "text/x-python",
   "name": "python",
   "nbconvert_exporter": "python",
   "pygments_lexer": "ipython2",
   "version": "3.8.8"
  },
  "metadata": {
   "interpreter": {
    "hash": "dca0ade3e726a953b501b15e8e990130d2b7799f14cfd9f4271676035ebe5511"
   }
  }
 },
 "nbformat": 4,
 "nbformat_minor": 0
}